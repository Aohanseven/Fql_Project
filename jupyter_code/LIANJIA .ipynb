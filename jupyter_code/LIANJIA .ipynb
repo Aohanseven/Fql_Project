{
 "cells": [
  {
   "cell_type": "code",
   "execution_count": 6,
   "metadata": {},
   "outputs": [],
   "source": [
    "import cv2\n",
    "import numpy as np\n",
    "\n",
    "def show(name):\n",
    "    cv2.imshow('Show', name)\n",
    "    cv2.waitKey(0)\n",
    "    cv2.destroyAllWindows()\n",
    "\n",
    "def main():\n",
    "    otemp = r'C:\\Users\\Administrator\\Downloads\\captcha_img.jpg'\n",
    "    oblk = r'C:\\Users\\Administrator\\Downloads\\captcha_img (1).jpg'\n",
    "    target = cv2.imread(otemp, 0)\n",
    "    template = cv2.imread(oblk, 0)\n",
    "    w, h = target.shape[::-1]\n",
    "    temp = 'temp.jpg'\n",
    "    targ = 'targ.jpg'asd\n",
    "    cv2.imwrite(temp, template)\n",
    "    cv2.imwrite(targ, target)\n",
    "    target = cv2.imread(targ)\n",
    "    target = cv2.cvtColor(target, cv2.COLOR_BGR2GRAY)\n",
    "    target = abs(255 - target)\n",
    "    cv2.imwrite(targ, target)\n",
    "    target = cv2.imread(targ)\n",
    "    template = cv2.imread(temp)\n",
    "    result = cv2.matchTemplate(target, template, cv2.TM_CCOEFF_NORMED)\n",
    "    x, y = np.unravel_index(result.argmax(), result.shape)\n",
    "    # 展示圈出来的区域\n",
    "    cv2.rectangle(template, (y, x), (y + w, x + h), (7, 249, 151), 2)\n",
    "    print(x,((y+w)*(280/480)),w,h)\n",
    "    show(template)"
   ]
  },
  {
   "cell_type": "code",
   "execution_count": 7,
   "metadata": {
    "scrolled": true
   },
   "outputs": [
    {
     "ename": "AttributeError",
     "evalue": "'NoneType' object has no attribute 'shape'",
     "traceback": [
      "\u001b[1;31m---------------------------------------------------------------------------\u001b[0m",
      "\u001b[1;31mAttributeError\u001b[0m                            Traceback (most recent call last)",
      "\u001b[1;32m<ipython-input-7-263240bbee7e>\u001b[0m in \u001b[0;36m<module>\u001b[1;34m\u001b[0m\n\u001b[1;32m----> 1\u001b[1;33m \u001b[0mmain\u001b[0m\u001b[1;33m(\u001b[0m\u001b[1;33m)\u001b[0m\u001b[1;33m\u001b[0m\u001b[1;33m\u001b[0m\u001b[0m\n\u001b[0m",
      "\u001b[1;32m<ipython-input-6-b2d5e278a547>\u001b[0m in \u001b[0;36mmain\u001b[1;34m()\u001b[0m\n\u001b[0;32m     12\u001b[0m     \u001b[0mtarget\u001b[0m \u001b[1;33m=\u001b[0m \u001b[0mcv2\u001b[0m\u001b[1;33m.\u001b[0m\u001b[0mimread\u001b[0m\u001b[1;33m(\u001b[0m\u001b[0motemp\u001b[0m\u001b[1;33m,\u001b[0m \u001b[1;36m0\u001b[0m\u001b[1;33m)\u001b[0m\u001b[1;33m\u001b[0m\u001b[1;33m\u001b[0m\u001b[0m\n\u001b[0;32m     13\u001b[0m     \u001b[0mtemplate\u001b[0m \u001b[1;33m=\u001b[0m \u001b[0mcv2\u001b[0m\u001b[1;33m.\u001b[0m\u001b[0mimread\u001b[0m\u001b[1;33m(\u001b[0m\u001b[0moblk\u001b[0m\u001b[1;33m,\u001b[0m \u001b[1;36m0\u001b[0m\u001b[1;33m)\u001b[0m\u001b[1;33m\u001b[0m\u001b[1;33m\u001b[0m\u001b[0m\n\u001b[1;32m---> 14\u001b[1;33m     \u001b[0mw\u001b[0m\u001b[1;33m,\u001b[0m \u001b[0mh\u001b[0m \u001b[1;33m=\u001b[0m \u001b[0mtarget\u001b[0m\u001b[1;33m.\u001b[0m\u001b[0mshape\u001b[0m\u001b[1;33m[\u001b[0m\u001b[1;33m:\u001b[0m\u001b[1;33m:\u001b[0m\u001b[1;33m-\u001b[0m\u001b[1;36m1\u001b[0m\u001b[1;33m]\u001b[0m\u001b[1;33m\u001b[0m\u001b[1;33m\u001b[0m\u001b[0m\n\u001b[0m\u001b[0;32m     15\u001b[0m     \u001b[0mtemp\u001b[0m \u001b[1;33m=\u001b[0m \u001b[1;34m'temp.jpg'\u001b[0m\u001b[1;33m\u001b[0m\u001b[1;33m\u001b[0m\u001b[0m\n\u001b[0;32m     16\u001b[0m     \u001b[0mtarg\u001b[0m \u001b[1;33m=\u001b[0m \u001b[1;34m'targ.jpg'\u001b[0m\u001b[1;33m\u001b[0m\u001b[1;33m\u001b[0m\u001b[0m\n",
      "\u001b[1;31mAttributeError\u001b[0m: 'NoneType' object has no attribute 'shape'"
     ],
     "output_type": "error"
    }
   ],
   "source": [
    "main()"
   ]
  },
  {
   "cell_type": "code",
   "execution_count": 32,
   "metadata": {},
   "outputs": [],
   "source": [
    "    def match():\n",
    "        target = r'C:\\Users\\Administrator\\Downloads\\captcha_img.jpg'\n",
    "        template = r'C:\\Users\\Administrator\\Downloads\\captcha_img (1).jpg'\n",
    "        img_rgb = cv2.imread(target)\n",
    "        img_gray = cv2.cvtColor(img_rgb, cv2.COLOR_BGR2GRAY)\n",
    "        template = cv2.imread(template,0)\n",
    "        run = 1\n",
    "        w, h = template.shape[::-1]\n",
    "        print(w, h)\n",
    "        res = cv2.matchTemplate(img_gray,template,cv2.TM_CCOEFF_NORMED) \n",
    "\n",
    "        # 使用二分法查找阈值的精确值 \n",
    "        L = 0\n",
    "        R = 1\n",
    "        while run < 20:\n",
    "            run += 1\n",
    "            threshold = (R + L) / 2\n",
    "            if threshold < 0:\n",
    "                print('Error')\n",
    "                return None\n",
    "            loc = np.where( res >= threshold)\n",
    "            #print(len(loc[1]))\n",
    "            if len(loc[1]) > 1:\n",
    "                L += (R - L) / 2\n",
    "            elif len(loc[1]) == 1:\n",
    "                print('目标区域起点x坐标为：%d' % loc[1][0])\n",
    "                break\n",
    "            elif len(loc[1]) < 1:\n",
    "                R -= (R - L) / 2\n",
    "\n",
    "        return loc[1][0]\n"
   ]
  },
  {
   "cell_type": "code",
   "execution_count": 33,
   "metadata": {},
   "outputs": [
    {
     "name": "stdout",
     "output_type": "stream",
     "text": [
      "480 270\n",
      "目标区域起点x坐标为：72\n"
     ]
    },
    {
     "data": {
      "text/plain": [
       "42.0"
      ]
     },
     "execution_count": 33,
     "metadata": {},
     "output_type": "execute_result"
    }
   ],
   "source": [
    "round(match()*(280/480))"
   ]
  },
  {
   "cell_type": "code",
   "execution_count": null,
   "metadata": {},
   "outputs": [],
   "source": []
  }
 ],
 "metadata": {
  "kernelspec": {
   "display_name": "Python 3",
   "language": "python",
   "name": "python3"
  },
  "language_info": {
   "codemirror_mode": {
    "name": "ipython",
    "version": 3
   },
   "file_extension": ".py",
   "mimetype": "text/x-python",
   "name": "python",
   "nbconvert_exporter": "python",
   "pygments_lexer": "ipython3",
   "version": "3.7.1"
  }
 },
 "nbformat": 4,
 "nbformat_minor": 2
}
