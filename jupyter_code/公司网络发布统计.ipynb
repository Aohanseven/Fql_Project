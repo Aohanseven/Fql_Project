{
 "cells": [
  {
   "cell_type": "code",
   "execution_count": 18,
   "metadata": {},
   "outputs": [],
   "source": [
    "from impala.dbapi import connect\n",
    "from impala.util import as_pandas\n",
    "import pandas as pd\n",
    "import pymysql\n",
    "import xlwt\n",
    "import re\n"
   ]
  },
  {
   "cell_type": "code",
   "execution_count": 19,
   "metadata": {},
   "outputs": [],
   "source": [
    "def hive():\n",
    "    cur = connect(host='192.168.0.252',port=10000,database='default').cursor()\n",
    "    print('hive 连接成功')\n",
    "    cur.execute(\"select * from dianpu_new where pub_date between '2019-04-29'and '2019-05-05'\")\n",
    "    hive_data = as_pandas(cur) \n",
    "    cur.close()\n",
    "    \n",
    "    return hive_data"
   ]
  },
  {
   "cell_type": "code",
   "execution_count": 20,
   "metadata": {
    "scrolled": true
   },
   "outputs": [
    {
     "name": "stdout",
     "output_type": "stream",
     "text": [
      "hive 连接成功\n"
     ]
    }
   ],
   "source": [
    "hive_data=hive()"
   ]
  },
  {
   "cell_type": "code",
   "execution_count": 21,
   "metadata": {},
   "outputs": [],
   "source": [
    "def dataframe_manage():\n",
    "    df = hive_data\n",
    "    df.columns = [(column.replace('dianpu_new.','')) for column in df.columns.tolist()]\n",
    "    df = df.drop(df[df['address']==None].index.tolist())\n",
    "    df.dropna(how='any',axis=0)\n",
    "    return df"
   ]
  },
  {
   "cell_type": "code",
   "execution_count": 22,
   "metadata": {},
   "outputs": [],
   "source": [
    "def address_menarge():\n",
    "    df = dataframe_manage()\n",
    "    address = df['address'].tolist()\n",
    "    address_list = [str(i).split('-') for i in address]\n",
    "    address1 = []\n",
    "    address2 = []\n",
    "    for i in  address_list:\n",
    "        if i[0] == ''and i[1] != '':\n",
    "                address1.append('1')\n",
    "                address2.append(i[1])\n",
    "        elif i[0] == 'None':\n",
    "                address1.append('1')\n",
    "                address2.append('1')\n",
    "        elif i[1] == '' and i[0] !='':\n",
    "                address1.append(i[0])\n",
    "                address2.append('1')\n",
    "        elif i[1] == '' and i[0] =='':\n",
    "                address1.append('1')\n",
    "                address2.append('1')\n",
    "\n",
    "        else:\n",
    "                address1.append(i[0])\n",
    "                address2.append(i[1])\n",
    "                \n",
    "\n",
    "    df['address1'],df['address2'] = address1,address2\n",
    "    df = df.drop(df[df['address1'].isin(['1','其他区'])].index.tolist())\n",
    "    return df\n",
    "    "
   ]
  },
  {
   "cell_type": "code",
   "execution_count": 23,
   "metadata": {},
   "outputs": [],
   "source": [
    "def mysql():\n",
    "    conn=pymysql.connect(\"192.168.0.252\",\"data_user\",\"first2018qaz\",\"FBDdata\",charset='utf8')\n",
    "    sql = \"SELECT * FROM house_info where date between '2019-04-29'and '2019-05-05'\"\n",
    "    sql_data = pd.read_sql(sql,conn)\n",
    "\n",
    "    return  sql_data"
   ]
  },
  {
   "cell_type": "code",
   "execution_count": 24,
   "metadata": {},
   "outputs": [],
   "source": [
    "#--------各网络平台发布数统计--------\n",
    "#from_web 1为58，2为安居客\n",
    "# wb 代表58 aj代表安居客 first代表菲斯特地产 ffx房发现\n",
    "def Web_Analysis():\n",
    "    df = address_menarge()\n",
    "    df_wb = df.loc[df['from_web']==1]\n",
    "    df_aj = df.loc[df['from_web']==2]\n",
    "    df_first = df[df['agent_company'].isin(['菲斯特房地产','成都菲斯特房地产营销策划有限公司'])]\n",
    "    df_ffx = mysql()\n",
    "    \n",
    "    wb_counts = df_wb.shape[0]\n",
    "    aj_counts = df_aj.shape[0]\n",
    "    first_counts = df_first.shape[0]\n",
    "    ffx_counts = df_ffx.shape[0]\n",
    "    counts_list = [wb_counts,aj_counts,first_counts,ffx_counts]\n",
    "    \n",
    "    wb_agent = df_wb['agent_name'].value_counts().shape[0]\n",
    "    aj_agent = df_aj['agent_name'].value_counts().shape[0]\n",
    "    first_agent = df_first['agent_name'].value_counts().shape[0]\n",
    "    ffx_agent = df_ffx['agent_name'].value_counts().shape[0]\n",
    "    agent_list = [wb_agent,aj_agent,first_agent,ffx_agent]\n",
    "    \n",
    "    avg = [round(wb_counts/wb_agent),round(aj_counts/aj_agent),round(first_counts/first_agent),round(ffx_counts/ffx_agent)]\n",
    "    avg_sum = round(sum(avg))\n",
    "    \n",
    "    data = {'网站来源':['58同城','安居客','菲斯特','房发现平台','合计'],\n",
    "            '发布条数':[wb_counts,aj_counts,first_counts,ffx_counts,sum(counts_list)],\n",
    "            '经纪人数':[wb_agent,aj_agent,first_agent,ffx_agent,sum(agent_list)], \n",
    "            '人均发布数':[round(wb_counts/wb_agent),round(aj_counts/aj_agent),round(first_counts/first_agent),round(ffx_counts/ffx_agent),avg_sum]\n",
    "           }\n",
    "    df_excel = pd.DataFrame(data)\n",
    "    return df_excel"
   ]
  },
  {
   "cell_type": "code",
   "execution_count": 25,
   "metadata": {},
   "outputs": [
    {
     "data": {
      "text/html": [
       "<div>\n",
       "<style scoped>\n",
       "    .dataframe tbody tr th:only-of-type {\n",
       "        vertical-align: middle;\n",
       "    }\n",
       "\n",
       "    .dataframe tbody tr th {\n",
       "        vertical-align: top;\n",
       "    }\n",
       "\n",
       "    .dataframe thead th {\n",
       "        text-align: right;\n",
       "    }\n",
       "</style>\n",
       "<table border=\"1\" class=\"dataframe\">\n",
       "  <thead>\n",
       "    <tr style=\"text-align: right;\">\n",
       "      <th></th>\n",
       "      <th>网站来源</th>\n",
       "      <th>发布条数</th>\n",
       "      <th>经纪人数</th>\n",
       "      <th>人均发布数</th>\n",
       "    </tr>\n",
       "  </thead>\n",
       "  <tbody>\n",
       "    <tr>\n",
       "      <th>0</th>\n",
       "      <td>58同城</td>\n",
       "      <td>18750</td>\n",
       "      <td>1411</td>\n",
       "      <td>13</td>\n",
       "    </tr>\n",
       "    <tr>\n",
       "      <th>1</th>\n",
       "      <td>安居客</td>\n",
       "      <td>111</td>\n",
       "      <td>73</td>\n",
       "      <td>2</td>\n",
       "    </tr>\n",
       "    <tr>\n",
       "      <th>2</th>\n",
       "      <td>菲斯特</td>\n",
       "      <td>195</td>\n",
       "      <td>33</td>\n",
       "      <td>6</td>\n",
       "    </tr>\n",
       "    <tr>\n",
       "      <th>3</th>\n",
       "      <td>房发现平台</td>\n",
       "      <td>855</td>\n",
       "      <td>62</td>\n",
       "      <td>14</td>\n",
       "    </tr>\n",
       "    <tr>\n",
       "      <th>4</th>\n",
       "      <td>合计</td>\n",
       "      <td>19911</td>\n",
       "      <td>1579</td>\n",
       "      <td>35</td>\n",
       "    </tr>\n",
       "  </tbody>\n",
       "</table>\n",
       "</div>"
      ],
      "text/plain": [
       "    网站来源   发布条数  经纪人数  人均发布数\n",
       "0   58同城  18750  1411     13\n",
       "1    安居客    111    73      2\n",
       "2    菲斯特    195    33      6\n",
       "3  房发现平台    855    62     14\n",
       "4     合计  19911  1579     35"
      ]
     },
     "execution_count": 25,
     "metadata": {},
     "output_type": "execute_result"
    }
   ],
   "source": [
    "Web_Analysis()"
   ]
  },
  {
   "cell_type": "code",
   "execution_count": 26,
   "metadata": {},
   "outputs": [],
   "source": [
    "#地区发布占比\n",
    "def Region_Analysis():\n",
    "    df = address_menarge()\n",
    "    region_names= df['address1'].value_counts().index.tolist()\n",
    "    region_counts = df['address1'].value_counts().tolist()\n",
    "    proportion = ['{:.2%}'.format(i/sum(region_counts)) for i in region_counts]\n",
    "    rank = [i for i in range(1,len(region_names)+1)]\n",
    "    data = {\n",
    "        '排名':rank,\n",
    "        '区域名称':region_names,\n",
    "        '发布条数':region_counts,\n",
    "        '占比':proportion\n",
    "    }\n",
    "    region_rank =pd.DataFrame(data)\n",
    "    region_rank.cloumns = ['排名','区域名称','发布条数','占比']\n",
    "    return region_rank"
   ]
  },
  {
   "cell_type": "code",
   "execution_count": 27,
   "metadata": {},
   "outputs": [],
   "source": [
    "#总价处理\n",
    "def Totalp_Analysis():\n",
    "    df = address_menarge()\n",
    "    rank = [i for i in range(1,9)]\n",
    "    bin = [0,50,100,200,300,400,500,1000, float(\"inf\")]#区间划分\n",
    "    price_counts =  pd.cut(df['total_price'],bin).value_counts().tolist()\n",
    "    price_cut = pd.cut(df['total_price'],bin).value_counts().index.tolist()\n",
    "    price_names = ['总价: '+ str(i).replace(', ','-').strip('(').strip(']').replace('.0','').replace('0-50','<=50').replace('1000-inf','>1000') for i in price_cut]\n",
    "    proportion = ['{:.2%}'.format(i/sum(price_counts)) for i in price_counts]\n",
    "    data = {\n",
    "        '排名':rank,\n",
    "        '总价区间 单位:万':price_names,\n",
    "        '发布条数':price_counts,\n",
    "        '占比':proportion\n",
    "    }\n",
    "    totalp_rank = pd.DataFrame(data)\n",
    "    totalp_rank.cloumns = ['排名','总价区间 单位:万','发布条数','占比']\n",
    "\n",
    "    return totalp_rank"
   ]
  },
  {
   "cell_type": "code",
   "execution_count": 28,
   "metadata": {},
   "outputs": [],
   "source": [
    "#单价处理\n",
    "def Price_Analysis():\n",
    "    df = address_menarge()\n",
    "    rank = [i for i in range(1,9)]\n",
    "    bin = [0,15000,20000,25000,30000,35000,40000,50000, float(\"inf\")]#区间划分\n",
    "    price_counts =  pd.cut(df['price'],bin).value_counts().tolist()\n",
    "    price_cut = pd.cut(df['price'],bin).value_counts().index.tolist()\n",
    "    price_names = ['单价: '+ str(i).replace('(0.0, 15000.0]','<1.5万').replace('(15000.0, 20000.0]','1.5-2万').replace('(20000.0, 25000.0]','2-2.5万').replace('(25000.0, 30000.0]','2.5-3万').replace('(30000.0, 35000.0]','3-3.5万').replace('(35000.0, 40000.0]','3.5-4万').replace('(40000.0, 50000.0]','4-5万').replace('(50000.0, inf','>5万') for i in price_cut]\n",
    "    proportion = ['{:.2%}'.format(i/sum(price_counts)) for i in price_counts]\n",
    "    data = {\n",
    "        '排名':rank,\n",
    "        '单价区间':price_names,\n",
    "        '发布条数':price_counts,\n",
    "        '占比':proportion\n",
    "    }\n",
    "    price_rank = pd.DataFrame(data)\n",
    "    price_rank.cloumns = ['排名','单价区间','发布条数','占比']\n",
    "\n",
    "    return price_rank"
   ]
  },
  {
   "cell_type": "code",
   "execution_count": 29,
   "metadata": {},
   "outputs": [],
   "source": [
    "def Acreage_Analysis():\n",
    "    df = address_menarge()\n",
    "    rank = [i for i in range(1,6)]\n",
    "    bin = [0,50,100,150,200, float(\"inf\")]#区间划分\n",
    "    acreage_counts =  pd.cut(df['acreage'],bin).value_counts().tolist()\n",
    "    acreage_cut = pd.cut(df['acreage'],bin).value_counts().index.tolist()\n",
    "    acreage_names = ['面积: '+ str(i).replace(', ','-').strip('(').strip(']').replace('.0','').replace('0-50','50').replace('200-inf','>200') for i in acreage_cut]\n",
    "    proportion = ['{:.2%}'.format(i/sum(acreage_counts)) for i in acreage_counts]\n",
    "    data = {\n",
    "        '排名':rank,\n",
    "        '面积区间':acreage_names,\n",
    "        '发布条数':acreage_counts,\n",
    "        '占比':proportion\n",
    "    }\n",
    "    acreage_rank = pd.DataFrame(data)\n",
    "    acreage_rank.cloumns = ['排名','面积区间','发布条数','占比']\n",
    "    return acreage_rank"
   ]
  },
  {
   "cell_type": "code",
   "execution_count": 30,
   "metadata": {},
   "outputs": [],
   "source": [
    "#前5地区总价排名\n",
    "def Top5totalp_Analysis():\n",
    "    df = address_menarge()\n",
    "    bin = [0,50,100,200,300,400,500,1000, float(\"inf\")]#区间划分\n",
    "    top5_region = df['address1'].value_counts().index.tolist()[:5]\n",
    "    counts_list = []\n",
    "    for k,v in enumerate(top5_region):\n",
    "        Top = pd.cut(df[df['address1'] == top5_region[k]]['total_price'],bin).value_counts()\n",
    "        df1 = pd.DataFrame(data={'bin':Top.index,'count':Top.values})\n",
    "        df1.sort_values('bin',inplace=True)\n",
    "        counts_list.append(df1['count'].tolist())\n",
    "    \n",
    "    \n",
    "    data = {'总价区间    单位:万':['总价1：<=50','总价2：50-100','总价3：100-200','总价4：200-300','总价5：300-400','总价6：400-500','总价7：500-1000','总价8：>1000'],\n",
    "            top5_region[0]:counts_list[0],\n",
    "            top5_region[1]:counts_list[1],\n",
    "            top5_region[2]:counts_list[2],\n",
    "            top5_region[3]:counts_list[3],\n",
    "            top5_region[4]:counts_list[4]\n",
    "            }\n",
    "    df = pd.DataFrame(data)\n",
    "    return df"
   ]
  },
  {
   "cell_type": "code",
   "execution_count": 31,
   "metadata": {},
   "outputs": [],
   "source": [
    "#前5地区单价排名\n",
    "def Top5price_Analysis():\n",
    "    df = address_menarge()\n",
    "    bin = [0,15000,20000,25000,30000,35000,40000,50000,float(\"inf\")]#区间划分\n",
    "    top5_region = df['address1'].value_counts().index.tolist()[:5]\n",
    "    counts_list = []\n",
    "    for k,v in enumerate(top5_region):\n",
    "        Top = pd.cut(df[df['address1'] == top5_region[k]]['price'],bin).value_counts()\n",
    "        df1 = pd.DataFrame(data={'bin':Top.index,'count':Top.values})\n",
    "        df1.sort_values('bin',inplace=True)\n",
    "        counts_list.append(df1['count'].tolist())\n",
    "    \n",
    "    \n",
    "    data = {'单价区间':['单价1：<1.5万','单价2：1.5-2万','单价3：2-2.5万','单价4：2.5-3万','单价5：3-3.5万','单价6：3.5-4万','单价7：4-5万','单价8：>5万'],\n",
    "            top5_region[0]:counts_list[0],\n",
    "            top5_region[1]:counts_list[1],\n",
    "            top5_region[2]:counts_list[2],\n",
    "            top5_region[3]:counts_list[3],\n",
    "            top5_region[4]:counts_list[4]\n",
    "            }\n",
    "    df = pd.DataFrame(data)\n",
    "    return df"
   ]
  },
  {
   "cell_type": "code",
   "execution_count": 32,
   "metadata": {},
   "outputs": [],
   "source": [
    "#前5地区面积排名\n",
    "def Top5acrege_Analysis():\n",
    "    df = address_menarge()\n",
    "    bin = [0,50,100,150,200,float(\"inf\")]#区间划分\n",
    "    top5_region = df['address1'].value_counts().index.tolist()[:5]\n",
    "    counts_list = []\n",
    "    for k,v in enumerate(top5_region):\n",
    "        Top = pd.cut(df[df['address1'] == top5_region[k]]['acreage'],bin).value_counts()\n",
    "        df1 = pd.DataFrame(data={'bin':Top.index,'count':Top.values})\n",
    "        df1.sort_values('bin',inplace=True)\n",
    "        counts_list.append(df1['count'].tolist())\n",
    "    \n",
    "    \n",
    "    data = {'面积区间    单位：m²':['面积1：<50','面积2：50-100','面积3：100-150','面积4：150-200','面积5：>200'],\n",
    "            top5_region[0]:counts_list[0],\n",
    "            top5_region[1]:counts_list[1],\n",
    "            top5_region[2]:counts_list[2],\n",
    "            top5_region[3]:counts_list[3],\n",
    "            top5_region[4]:counts_list[4]\n",
    "            }\n",
    "    df = pd.DataFrame(data)\n",
    "    return df"
   ]
  },
  {
   "cell_type": "code",
   "execution_count": 34,
   "metadata": {
    "scrolled": true
   },
   "outputs": [
    {
     "name": "stderr",
     "output_type": "stream",
     "text": [
      "C:\\anaconda3\\envs\\data\\lib\\site-packages\\ipykernel_launcher.py:15: UserWarning: Pandas doesn't allow columns to be created via a new attribute name - see https://pandas.pydata.org/pandas-docs/stable/indexing.html#attribute-access\n",
      "  from ipykernel import kernelapp as app\n",
      "C:\\anaconda3\\envs\\data\\lib\\site-packages\\ipykernel_launcher.py:17: UserWarning: Pandas doesn't allow columns to be created via a new attribute name - see https://pandas.pydata.org/pandas-docs/stable/indexing.html#attribute-access\n",
      "C:\\anaconda3\\envs\\data\\lib\\site-packages\\ipykernel_launcher.py:17: UserWarning: Pandas doesn't allow columns to be created via a new attribute name - see https://pandas.pydata.org/pandas-docs/stable/indexing.html#attribute-access\n",
      "C:\\anaconda3\\envs\\data\\lib\\site-packages\\ipykernel_launcher.py:16: UserWarning: Pandas doesn't allow columns to be created via a new attribute name - see https://pandas.pydata.org/pandas-docs/stable/indexing.html#attribute-access\n",
      "  app.launch_new_instance()\n"
     ]
    },
    {
     "name": "stdout",
     "output_type": "stream",
     "text": [
      "数据统计成功\n"
     ]
    }
   ],
   "source": [
    "with pd.ExcelWriter( r'D:/Excel/fang_tan.xlsx') as writer:\n",
    "    Web_Analysis().to_excel(writer, sheet_name='网络来源',index=False)\n",
    "    Region_Analysis().to_excel(writer, sheet_name='区域排名',index=False)\n",
    "    Totalp_Analysis().to_excel(writer, sheet_name='总价排名',index=False)\n",
    "    Price_Analysis().to_excel(writer, sheet_name='单价排名',index=False)\n",
    "    Acreage_Analysis().to_excel(writer, sheet_name='面积排名',index=False)\n",
    "    Top5totalp_Analysis().to_excel(writer, sheet_name='总价区域',index=False)\n",
    "    Top5price_Analysis().to_excel(writer, sheet_name='单价区域',index=False)\n",
    "    Top5acrege_Analysis().to_excel(writer, sheet_name='面积区域',index=False)\n",
    "print('数据统计成功')"
   ]
  },
  {
   "cell_type": "code",
   "execution_count": null,
   "metadata": {},
   "outputs": [],
   "source": []
  },
  {
   "cell_type": "code",
   "execution_count": null,
   "metadata": {},
   "outputs": [],
   "source": []
  }
 ],
 "metadata": {
  "kernelspec": {
   "display_name": "Python 3",
   "language": "python",
   "name": "python3"
  },
  "language_info": {
   "codemirror_mode": {
    "name": "ipython",
    "version": 3
   },
   "file_extension": ".py",
   "mimetype": "text/x-python",
   "name": "python",
   "nbconvert_exporter": "python",
   "pygments_lexer": "ipython3",
   "version": "3.7.1"
  }
 },
 "nbformat": 4,
 "nbformat_minor": 2
}
