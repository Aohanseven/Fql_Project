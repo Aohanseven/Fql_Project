{
 "cells": [
  {
   "cell_type": "code",
   "execution_count": 38,
   "metadata": {},
   "outputs": [],
   "source": [
    "from impala.dbapi import connect\n",
    "from impala.util import as_pandas\n",
    "import pandas as pd\n",
    "import pymysql\n",
    "import xlwt\n",
    "import re\n"
   ]
  },
  {
   "cell_type": "code",
   "execution_count": 39,
   "metadata": {},
   "outputs": [],
   "source": [
    "def hive():\n",
    "    cur = connect(host='192.168.0.252',port=10000,database='default').cursor()\n",
    "    print('hive 连接成功')\n",
    "    cur.execute(\"select * from dianpu_new where pub_date between '2019-04-28'and '2019-05-07'\")\n",
    "    hive_data = as_pandas(cur) \n",
    "    cur.close()\n",
    "    \n",
    "    return hive_data"
   ]
  },
  {
   "cell_type": "code",
   "execution_count": 40,
   "metadata": {
    "scrolled": true
   },
   "outputs": [
    {
     "ename": "TTransportException",
     "evalue": "TTransportException(type=1, message=\"Could not connect to ('192.168.0.252', 10000)\")",
     "output_type": "error",
     "traceback": [
      "\u001b[1;31m---------------------------------------------------------------------------\u001b[0m",
      "\u001b[1;31mConnectionRefusedError\u001b[0m                    Traceback (most recent call last)",
      "\u001b[1;32mC:\\anaconda3\\envs\\data\\lib\\site-packages\\thriftpy\\transport\\socket.py\u001b[0m in \u001b[0;36mopen\u001b[1;34m(self)\u001b[0m\n\u001b[0;32m     95\u001b[0m \u001b[1;33m\u001b[0m\u001b[0m\n\u001b[1;32m---> 96\u001b[1;33m             \u001b[0mself\u001b[0m\u001b[1;33m.\u001b[0m\u001b[0msock\u001b[0m\u001b[1;33m.\u001b[0m\u001b[0mconnect\u001b[0m\u001b[1;33m(\u001b[0m\u001b[0maddr\u001b[0m\u001b[1;33m)\u001b[0m\u001b[1;33m\u001b[0m\u001b[1;33m\u001b[0m\u001b[0m\n\u001b[0m\u001b[0;32m     97\u001b[0m \u001b[1;33m\u001b[0m\u001b[0m\n",
      "\u001b[1;31mConnectionRefusedError\u001b[0m: [WinError 10061] 由于目标计算机积极拒绝，无法连接。",
      "\nDuring handling of the above exception, another exception occurred:\n",
      "\u001b[1;31mTTransportException\u001b[0m                       Traceback (most recent call last)",
      "\u001b[1;32m<ipython-input-40-36cc6fc6fbc0>\u001b[0m in \u001b[0;36m<module>\u001b[1;34m\u001b[0m\n\u001b[1;32m----> 1\u001b[1;33m \u001b[0mhive_data\u001b[0m\u001b[1;33m=\u001b[0m\u001b[0mhive\u001b[0m\u001b[1;33m(\u001b[0m\u001b[1;33m)\u001b[0m\u001b[1;33m\u001b[0m\u001b[1;33m\u001b[0m\u001b[0m\n\u001b[0m",
      "\u001b[1;32m<ipython-input-39-d3ad452bcba3>\u001b[0m in \u001b[0;36mhive\u001b[1;34m()\u001b[0m\n\u001b[0;32m      1\u001b[0m \u001b[1;32mdef\u001b[0m \u001b[0mhive\u001b[0m\u001b[1;33m(\u001b[0m\u001b[1;33m)\u001b[0m\u001b[1;33m:\u001b[0m\u001b[1;33m\u001b[0m\u001b[1;33m\u001b[0m\u001b[0m\n\u001b[1;32m----> 2\u001b[1;33m     \u001b[0mcur\u001b[0m \u001b[1;33m=\u001b[0m \u001b[0mconnect\u001b[0m\u001b[1;33m(\u001b[0m\u001b[0mhost\u001b[0m\u001b[1;33m=\u001b[0m\u001b[1;34m'192.168.0.252'\u001b[0m\u001b[1;33m,\u001b[0m\u001b[0mport\u001b[0m\u001b[1;33m=\u001b[0m\u001b[1;36m10000\u001b[0m\u001b[1;33m,\u001b[0m\u001b[0mdatabase\u001b[0m\u001b[1;33m=\u001b[0m\u001b[1;34m'default'\u001b[0m\u001b[1;33m)\u001b[0m\u001b[1;33m.\u001b[0m\u001b[0mcursor\u001b[0m\u001b[1;33m(\u001b[0m\u001b[1;33m)\u001b[0m\u001b[1;33m\u001b[0m\u001b[1;33m\u001b[0m\u001b[0m\n\u001b[0m\u001b[0;32m      3\u001b[0m     \u001b[0mprint\u001b[0m\u001b[1;33m(\u001b[0m\u001b[1;34m'hive 连接成功'\u001b[0m\u001b[1;33m)\u001b[0m\u001b[1;33m\u001b[0m\u001b[1;33m\u001b[0m\u001b[0m\n\u001b[0;32m      4\u001b[0m     \u001b[0mcur\u001b[0m\u001b[1;33m.\u001b[0m\u001b[0mexecute\u001b[0m\u001b[1;33m(\u001b[0m\u001b[1;34m\"select * from dianpu_new where pub_date between '2019-04-28'and '2019-05-07'\"\u001b[0m\u001b[1;33m)\u001b[0m\u001b[1;33m\u001b[0m\u001b[1;33m\u001b[0m\u001b[0m\n\u001b[0;32m      5\u001b[0m     \u001b[0mhive_data\u001b[0m \u001b[1;33m=\u001b[0m \u001b[0mas_pandas\u001b[0m\u001b[1;33m(\u001b[0m\u001b[0mcur\u001b[0m\u001b[1;33m)\u001b[0m\u001b[1;33m\u001b[0m\u001b[1;33m\u001b[0m\u001b[0m\n",
      "\u001b[1;32mC:\\anaconda3\\envs\\data\\lib\\site-packages\\impala\\dbapi.py\u001b[0m in \u001b[0;36mconnect\u001b[1;34m(host, port, database, timeout, use_ssl, ca_cert, auth_mechanism, user, password, kerberos_service_name, use_ldap, ldap_user, ldap_password, use_kerberos, protocol)\u001b[0m\n\u001b[0;32m    145\u001b[0m                           \u001b[0mca_cert\u001b[0m\u001b[1;33m=\u001b[0m\u001b[0mca_cert\u001b[0m\u001b[1;33m,\u001b[0m \u001b[0muser\u001b[0m\u001b[1;33m=\u001b[0m\u001b[0muser\u001b[0m\u001b[1;33m,\u001b[0m \u001b[0mpassword\u001b[0m\u001b[1;33m=\u001b[0m\u001b[0mpassword\u001b[0m\u001b[1;33m,\u001b[0m\u001b[1;33m\u001b[0m\u001b[1;33m\u001b[0m\u001b[0m\n\u001b[0;32m    146\u001b[0m                           \u001b[0mkerberos_service_name\u001b[0m\u001b[1;33m=\u001b[0m\u001b[0mkerberos_service_name\u001b[0m\u001b[1;33m,\u001b[0m\u001b[1;33m\u001b[0m\u001b[1;33m\u001b[0m\u001b[0m\n\u001b[1;32m--> 147\u001b[1;33m                           auth_mechanism=auth_mechanism)\n\u001b[0m\u001b[0;32m    148\u001b[0m     \u001b[1;32mreturn\u001b[0m \u001b[0mhs2\u001b[0m\u001b[1;33m.\u001b[0m\u001b[0mHiveServer2Connection\u001b[0m\u001b[1;33m(\u001b[0m\u001b[0mservice\u001b[0m\u001b[1;33m,\u001b[0m \u001b[0mdefault_db\u001b[0m\u001b[1;33m=\u001b[0m\u001b[0mdatabase\u001b[0m\u001b[1;33m)\u001b[0m\u001b[1;33m\u001b[0m\u001b[1;33m\u001b[0m\u001b[0m\n\u001b[0;32m    149\u001b[0m \u001b[1;33m\u001b[0m\u001b[0m\n",
      "\u001b[1;32mC:\\anaconda3\\envs\\data\\lib\\site-packages\\impala\\hiveserver2.py\u001b[0m in \u001b[0;36mconnect\u001b[1;34m(host, port, timeout, use_ssl, ca_cert, user, password, kerberos_service_name, auth_mechanism)\u001b[0m\n\u001b[0;32m    756\u001b[0m     transport = get_transport(sock, host, kerberos_service_name,\n\u001b[0;32m    757\u001b[0m                               auth_mechanism, user, password)\n\u001b[1;32m--> 758\u001b[1;33m     \u001b[0mtransport\u001b[0m\u001b[1;33m.\u001b[0m\u001b[0mopen\u001b[0m\u001b[1;33m(\u001b[0m\u001b[1;33m)\u001b[0m\u001b[1;33m\u001b[0m\u001b[1;33m\u001b[0m\u001b[0m\n\u001b[0m\u001b[0;32m    759\u001b[0m     \u001b[0mprotocol\u001b[0m \u001b[1;33m=\u001b[0m \u001b[0mTBinaryProtocol\u001b[0m\u001b[1;33m(\u001b[0m\u001b[0mtransport\u001b[0m\u001b[1;33m)\u001b[0m\u001b[1;33m\u001b[0m\u001b[1;33m\u001b[0m\u001b[0m\n\u001b[0;32m    760\u001b[0m     \u001b[1;32mif\u001b[0m \u001b[0msix\u001b[0m\u001b[1;33m.\u001b[0m\u001b[0mPY2\u001b[0m\u001b[1;33m:\u001b[0m\u001b[1;33m\u001b[0m\u001b[1;33m\u001b[0m\u001b[0m\n",
      "\u001b[1;32mC:\\anaconda3\\envs\\data\\lib\\site-packages\\thriftpy\\transport\\buffered\\__init__.py\u001b[0m in \u001b[0;36mopen\u001b[1;34m(self)\u001b[0m\n\u001b[0;32m     27\u001b[0m \u001b[1;33m\u001b[0m\u001b[0m\n\u001b[0;32m     28\u001b[0m     \u001b[1;32mdef\u001b[0m \u001b[0mopen\u001b[0m\u001b[1;33m(\u001b[0m\u001b[0mself\u001b[0m\u001b[1;33m)\u001b[0m\u001b[1;33m:\u001b[0m\u001b[1;33m\u001b[0m\u001b[1;33m\u001b[0m\u001b[0m\n\u001b[1;32m---> 29\u001b[1;33m         \u001b[1;32mreturn\u001b[0m \u001b[0mself\u001b[0m\u001b[1;33m.\u001b[0m\u001b[0m_trans\u001b[0m\u001b[1;33m.\u001b[0m\u001b[0mopen\u001b[0m\u001b[1;33m(\u001b[0m\u001b[1;33m)\u001b[0m\u001b[1;33m\u001b[0m\u001b[1;33m\u001b[0m\u001b[0m\n\u001b[0m\u001b[0;32m     30\u001b[0m \u001b[1;33m\u001b[0m\u001b[0m\n\u001b[0;32m     31\u001b[0m     \u001b[1;32mdef\u001b[0m \u001b[0mclose\u001b[0m\u001b[1;33m(\u001b[0m\u001b[0mself\u001b[0m\u001b[1;33m)\u001b[0m\u001b[1;33m:\u001b[0m\u001b[1;33m\u001b[0m\u001b[1;33m\u001b[0m\u001b[0m\n",
      "\u001b[1;32mC:\\anaconda3\\envs\\data\\lib\\site-packages\\thriftpy\\transport\\socket.py\u001b[0m in \u001b[0;36mopen\u001b[1;34m(self)\u001b[0m\n\u001b[0;32m    102\u001b[0m             raise TTransportException(\n\u001b[0;32m    103\u001b[0m                 \u001b[0mtype\u001b[0m\u001b[1;33m=\u001b[0m\u001b[0mTTransportException\u001b[0m\u001b[1;33m.\u001b[0m\u001b[0mNOT_OPEN\u001b[0m\u001b[1;33m,\u001b[0m\u001b[1;33m\u001b[0m\u001b[1;33m\u001b[0m\u001b[0m\n\u001b[1;32m--> 104\u001b[1;33m                 message=\"Could not connect to %s\" % str(addr))\n\u001b[0m\u001b[0;32m    105\u001b[0m \u001b[1;33m\u001b[0m\u001b[0m\n\u001b[0;32m    106\u001b[0m     \u001b[1;32mdef\u001b[0m \u001b[0mread\u001b[0m\u001b[1;33m(\u001b[0m\u001b[0mself\u001b[0m\u001b[1;33m,\u001b[0m \u001b[0msz\u001b[0m\u001b[1;33m)\u001b[0m\u001b[1;33m:\u001b[0m\u001b[1;33m\u001b[0m\u001b[1;33m\u001b[0m\u001b[0m\n",
      "\u001b[1;31mTTransportException\u001b[0m: TTransportException(type=1, message=\"Could not connect to ('192.168.0.252', 10000)\")"
     ]
    }
   ],
   "source": [
    "hive_data=hive()"
   ]
  },
  {
   "cell_type": "code",
   "execution_count": null,
   "metadata": {},
   "outputs": [],
   "source": [
    "hive_data[hive_data['dianpu_new.from_web']==2]"
   ]
  },
  {
   "cell_type": "code",
   "execution_count": 4,
   "metadata": {},
   "outputs": [],
   "source": [
    "def dataframe_manage():\n",
    "    df = hive_data\n",
    "    df.columns = [(column.replace('dianpu_new.','')) for column in df.columns.tolist()]\n",
    "    df = df.drop(df[df['address']==None].index.tolist())\n",
    "    df.dropna(how='any',axis=0)\n",
    "    return df"
   ]
  },
  {
   "cell_type": "code",
   "execution_count": 5,
   "metadata": {},
   "outputs": [],
   "source": [
    "def address_menarge():\n",
    "    df = dataframe_manage()\n",
    "    address = df['address'].tolist()\n",
    "    address_list = [str(i).split('-') for i in address]\n",
    "    address1 = []\n",
    "    address2 = []\n",
    "    for i in  address_list:\n",
    "        if i[0] == ''and i[1] != '':\n",
    "                address1.append('1')\n",
    "                address2.append(i[1])\n",
    "        elif i[0] == 'None':\n",
    "                address1.append('1')\n",
    "                address2.append('1')\n",
    "        elif i[1] == '' and i[0] !='':\n",
    "                address1.append(i[0])\n",
    "                address2.append('1')\n",
    "        elif i[1] == '' and i[0] =='':\n",
    "                address1.append('1')\n",
    "                address2.append('1')\n",
    "\n",
    "        else:\n",
    "                address1.append(i[0])\n",
    "                address2.append(i[1])\n",
    "                \n",
    "\n",
    "    df['address1'],df['address2'] = address1,address2\n",
    "    df = df.drop(df[df['address1'].isin(['1','其他区'])].index.tolist())\n",
    "    return df\n",
    "    "
   ]
  },
  {
   "cell_type": "code",
   "execution_count": 6,
   "metadata": {},
   "outputs": [],
   "source": [
    "def mysql():\n",
    "    conn=pymysql.connect(\"192.168.0.252\",\"data_user\",\"first2018qaz\",\"FBDdata\",charset='utf8')\n",
    "    sql = \"SELECT * FROM house_info where date between '2019-04-22'and '2019-04-28'\"\n",
    "    sql_data = pd.read_sql(sql,conn)\n",
    "\n",
    "    return  sql_data"
   ]
  },
  {
   "cell_type": "code",
   "execution_count": 20,
   "metadata": {},
   "outputs": [],
   "source": [
    "#--------各网络平台发布数统计--------\n",
    "#from_web 1为58，2为安居客\n",
    "# wb 代表58 aj代表安居客 first代表菲斯特地产 ffx房发现\n",
    "def Web_Analysis():\n",
    "    df = address_menarge()\n",
    "    df_wb = df.loc[df['from_web']==1]\n",
    "    df_aj = df.loc[df['from_web']==2]\n",
    "    df_first = df[df['agent_company'].isin(['菲斯特房地产','成都菲斯特房地产营销策划有限公司'])]\n",
    "    df_ffx = mysql()\n",
    "    \n",
    "    wb_counts = df_wb.shape[0]\n",
    "    aj_counts = df_aj.shape[0]\n",
    "    first_counts = df_first.shape[0]\n",
    "    ffx_counts = df_ffx.shape[0]\n",
    "    counts_list = [wb_counts,aj_counts,first_counts,ffx_counts]\n",
    "    \n",
    "    \n",
    "    wb_agent = df_wb['agent_name'].value_counts().shape[0]\n",
    "    aj_agent = df_aj['agent_name'].value_counts().shape[0]\n",
    "    first_agent = df_first['agent_name'].value_counts().shape[0]\n",
    "    ffx_agent = df_ffx['agent_name'].value_counts().shape[0]\n",
    "    agent_list = [wb_agent,aj_agent,first_agent,ffx_agent]\n",
    "    \n",
    "    avg = [round(wb_counts/wb_agent),round(aj_counts/aj_agent),round(first_counts/first_agent),round(ffx_counts/ffx_agent)]\n",
    "    avg_sum = round(sum(avg))\n",
    "    \n",
    "    data = {'网站来源':['58同城','安居客','菲斯特','房发现平台','合计'],\n",
    "            '发布条数':[wb_counts,aj_counts,first_counts,ffx_counts,sum(counts_list)],\n",
    "            '经纪人数':[wb_agent,aj_agent,first_agent,ffx_agent,sum(agent_list)], \n",
    "            '人均发布数':[round(wb_counts/wb_agent),round(aj_counts/aj_agent),round(first_counts/first_agent),round(ffx_counts/ffx_agent),avg_sum]\n",
    "           }\n",
    "    df_excel = pd.DataFrame(data)\n",
    "    return df_excel"
   ]
  },
  {
   "cell_type": "code",
   "execution_count": 21,
   "metadata": {},
   "outputs": [
    {
     "data": {
      "text/plain": [
       "(1404, 0, 31, 48)"
      ]
     },
     "execution_count": 21,
     "metadata": {},
     "output_type": "execute_result"
    }
   ],
   "source": [
    "Web_Analysis()"
   ]
  },
  {
   "cell_type": "code",
   "execution_count": 8,
   "metadata": {},
   "outputs": [],
   "source": [
    "#地区发布占比\n",
    "def Region_Analysis():\n",
    "    df = address_menarge()\n",
    "    region_names= df['address1'].value_counts().index.tolist()\n",
    "    region_counts = df['address1'].value_counts().tolist()\n",
    "    proportion = ['{:.2%}'.format(i/sum(region_counts)) for i in region_counts]\n",
    "    rank = [i for i in range(1,len(region_names)+1)]\n",
    "    data = {\n",
    "        '排名':rank,\n",
    "        '区域名称':region_names,\n",
    "        '发布条数':region_counts,\n",
    "        '占比':proportion\n",
    "    }\n",
    "    region_rank =pd.DataFrame(data)\n",
    "    region_rank.cloumns = ['排名','区域名称','发布条数','占比']\n",
    "    return region_rank"
   ]
  },
  {
   "cell_type": "code",
   "execution_count": 9,
   "metadata": {},
   "outputs": [],
   "source": [
    "#总价处理\n",
    "def Totalp_Analysis():\n",
    "    df = address_menarge()\n",
    "    rank = [i for i in range(1,9)]\n",
    "    bin = [0,50,100,200,300,400,500,1000, float(\"inf\")]#区间划分\n",
    "    price_counts =  pd.cut(df['total_price'],bin).value_counts().tolist()\n",
    "    price_cut = pd.cut(df['total_price'],bin).value_counts().index.tolist()\n",
    "    price_names = ['总价: '+ str(i).replace(', ','-').strip('(').strip(']').replace('.0','').replace('0-50','<=50').replace('1000-inf','>1000') for i in price_cut]\n",
    "    proportion = ['{:.2%}'.format(i/sum(price_counts)) for i in price_counts]\n",
    "    data = {\n",
    "        '排名':rank,\n",
    "        '总价区间 单位:万':price_names,\n",
    "        '发布条数':price_counts,\n",
    "        '占比':proportion\n",
    "    }\n",
    "    totalp_rank = pd.DataFrame(data)\n",
    "    totalp_rank.cloumns = ['排名','总价区间 单位:万','发布条数','占比']\n",
    "\n",
    "    return totalp_rank"
   ]
  },
  {
   "cell_type": "code",
   "execution_count": 10,
   "metadata": {},
   "outputs": [],
   "source": [
    "#单价处理\n",
    "def Price_Analysis():\n",
    "    df = address_menarge()\n",
    "    rank = [i for i in range(1,9)]\n",
    "    bin = [0,15000,20000,25000,30000,35000,40000,50000, float(\"inf\")]#区间划分\n",
    "    price_counts =  pd.cut(df['price'],bin).value_counts().tolist()\n",
    "    price_cut = pd.cut(df['price'],bin).value_counts().index.tolist()\n",
    "    price_names = ['单价: '+ str(i).replace('(0.0, 15000.0]','<1.5万').replace('(15000.0, 20000.0]','1.5-2万').replace('(20000.0, 25000.0]','2-2.5万').replace('(25000.0, 30000.0]','2.5-3万').replace('(30000.0, 35000.0]','3-3.5万').replace('(35000.0, 40000.0]','3.5-4万').replace('(40000.0, 50000.0]','4-5万').replace('(50000.0, inf','>5万') for i in price_cut]\n",
    "    proportion = ['{:.2%}'.format(i/sum(price_counts)) for i in price_counts]\n",
    "    data = {\n",
    "        '排名':rank,\n",
    "        '单价区间':price_names,\n",
    "        '发布条数':price_counts,\n",
    "        '占比':proportion\n",
    "    }\n",
    "    price_rank = pd.DataFrame(data)\n",
    "    price_rank.cloumns = ['排名','单价区间','发布条数','占比']\n",
    "\n",
    "    return price_rank"
   ]
  },
  {
   "cell_type": "code",
   "execution_count": 11,
   "metadata": {},
   "outputs": [],
   "source": [
    "def Acreage_Analysis():\n",
    "    df = address_menarge()\n",
    "    rank = [i for i in range(1,6)]\n",
    "    bin = [0,50,100,150,200, float(\"inf\")]#区间划分\n",
    "    acreage_counts =  pd.cut(df['acreage'],bin).value_counts().tolist()\n",
    "    acreage_cut = pd.cut(df['acreage'],bin).value_counts().index.tolist()\n",
    "    acreage_names = ['面积: '+ str(i).replace(', ','-').strip('(').strip(']').replace('.0','').replace('0-50','50').replace('200-inf','>200') for i in acreage_cut]\n",
    "    proportion = ['{:.2%}'.format(i/sum(acreage_counts)) for i in acreage_counts]\n",
    "    data = {\n",
    "        '排名':rank,\n",
    "        '面积区间':acreage_names,\n",
    "        '发布条数':acreage_counts,\n",
    "        '占比':proportion\n",
    "    }\n",
    "    acreage_rank = pd.DataFrame(data)\n",
    "    acreage_rank.cloumns = ['排名','面积区间','发布条数','占比']\n",
    "    return acreage_rank"
   ]
  },
  {
   "cell_type": "code",
   "execution_count": 12,
   "metadata": {},
   "outputs": [],
   "source": [
    "#前5地区总价排名\n",
    "def Top5totalp_Analysis():\n",
    "    df = address_menarge()\n",
    "    bin = [0,50,100,200,300,400,500,1000, float(\"inf\")]#区间划分\n",
    "    top5_region = df['address1'].value_counts().index.tolist()[:5]\n",
    "    counts_list = []\n",
    "    for k,v in enumerate(top5_region):\n",
    "        Top = pd.cut(df[df['address1'] == top5_region[k]]['total_price'],bin).value_counts()\n",
    "        df1 = pd.DataFrame(data={'bin':Top.index,'count':Top.values})\n",
    "        df1.sort_values('bin',inplace=True)\n",
    "        counts_list.append(df1['count'].tolist())\n",
    "    \n",
    "    \n",
    "    data = {'总价区间    单位:万':['总价1：<=50','总价2：50-100','总价3：100-200','总价4：200-300','总价5：300-400','总价6：400-500','总价7：500-1000','总价8：>1000'],\n",
    "            top5_region[0]:counts_list[0],\n",
    "            top5_region[1]:counts_list[1],\n",
    "            top5_region[2]:counts_list[2],\n",
    "            top5_region[3]:counts_list[3],\n",
    "            top5_region[4]:counts_list[4]\n",
    "            }\n",
    "    df = pd.DataFrame(data)\n",
    "    return df"
   ]
  },
  {
   "cell_type": "code",
   "execution_count": 13,
   "metadata": {},
   "outputs": [],
   "source": [
    "#前5地区单价排名\n",
    "def Top5price_Analysis():\n",
    "    df = address_menarge()\n",
    "    bin = [0,15000,20000,25000,30000,35000,40000,50000,float(\"inf\")]#区间划分\n",
    "    top5_region = df['address1'].value_counts().index.tolist()[:5]\n",
    "    counts_list = []\n",
    "    for k,v in enumerate(top5_region):\n",
    "        Top = pd.cut(df[df['address1'] == top5_region[k]]['price'],bin).value_counts()\n",
    "        df1 = pd.DataFrame(data={'bin':Top.index,'count':Top.values})\n",
    "        df1.sort_values('bin',inplace=True)\n",
    "        counts_list.append(df1['count'].tolist())\n",
    "    \n",
    "    \n",
    "    data = {'单价区间':['单价1：<1.5万','单价2：1.5-2万','单价3：2-2.5万','单价4：2.5-3万','单价5：3-3.5万','单价6：3.5-4万','单价7：4-5万','单价8：>5万'],\n",
    "            top5_region[0]:counts_list[0],\n",
    "            top5_region[1]:counts_list[1],\n",
    "            top5_region[2]:counts_list[2],\n",
    "            top5_region[3]:counts_list[3],\n",
    "            top5_region[4]:counts_list[4]\n",
    "            }\n",
    "    df = pd.DataFrame(data)\n",
    "    return df"
   ]
  },
  {
   "cell_type": "code",
   "execution_count": 14,
   "metadata": {},
   "outputs": [],
   "source": [
    "#前5地区面积排名\n",
    "def Top5acrege_Analysis():\n",
    "    df = address_menarge()\n",
    "    bin = [0,50,100,150,200,float(\"inf\")]#区间划分\n",
    "    top5_region = df['address1'].value_counts().index.tolist()[:5]\n",
    "    counts_list = []\n",
    "    for k,v in enumerate(top5_region):\n",
    "        Top = pd.cut(df[df['address1'] == top5_region[k]]['acreage'],bin).value_counts()\n",
    "        df1 = pd.DataFrame(data={'bin':Top.index,'count':Top.values})\n",
    "        df1.sort_values('bin',inplace=True)\n",
    "        counts_list.append(df1['count'].tolist())\n",
    "    \n",
    "    \n",
    "    data = {'面积区间    单位：m²':['面积1：<50','面积2：50-100','面积3：100-150','面积4：150-200','面积5：>200'],\n",
    "            top5_region[0]:counts_list[0],\n",
    "            top5_region[1]:counts_list[1],\n",
    "            top5_region[2]:counts_list[2],\n",
    "            top5_region[3]:counts_list[3],\n",
    "            top5_region[4]:counts_list[4]\n",
    "            }\n",
    "    df = pd.DataFrame(data)\n",
    "    return df"
   ]
  },
  {
   "cell_type": "code",
   "execution_count": 15,
   "metadata": {
    "scrolled": true
   },
   "outputs": [
    {
     "ename": "IndexError",
     "evalue": "At least one sheet must be visible",
     "output_type": "error",
     "traceback": [
      "\u001b[1;31m---------------------------------------------------------------------------\u001b[0m",
      "\u001b[1;31mZeroDivisionError\u001b[0m                         Traceback (most recent call last)",
      "\u001b[1;32m<ipython-input-15-029d7a8fc247>\u001b[0m in \u001b[0;36m<module>\u001b[1;34m\u001b[0m\n\u001b[0;32m      1\u001b[0m \u001b[1;32mwith\u001b[0m \u001b[0mpd\u001b[0m\u001b[1;33m.\u001b[0m\u001b[0mExcelWriter\u001b[0m\u001b[1;33m(\u001b[0m \u001b[1;34mr'D:/Excel/fang_tan.xlsx'\u001b[0m\u001b[1;33m)\u001b[0m \u001b[1;32mas\u001b[0m \u001b[0mwriter\u001b[0m\u001b[1;33m:\u001b[0m\u001b[1;33m\u001b[0m\u001b[1;33m\u001b[0m\u001b[0m\n\u001b[1;32m----> 2\u001b[1;33m     \u001b[0mWeb_Analysis\u001b[0m\u001b[1;33m(\u001b[0m\u001b[1;33m)\u001b[0m\u001b[1;33m.\u001b[0m\u001b[0mto_excel\u001b[0m\u001b[1;33m(\u001b[0m\u001b[0mwriter\u001b[0m\u001b[1;33m,\u001b[0m \u001b[0msheet_name\u001b[0m\u001b[1;33m=\u001b[0m\u001b[1;34m'网络来源'\u001b[0m\u001b[1;33m,\u001b[0m\u001b[0mindex\u001b[0m\u001b[1;33m=\u001b[0m\u001b[1;32mFalse\u001b[0m\u001b[1;33m)\u001b[0m\u001b[1;33m\u001b[0m\u001b[1;33m\u001b[0m\u001b[0m\n\u001b[0m\u001b[0;32m      3\u001b[0m     \u001b[0mRegion_Analysis\u001b[0m\u001b[1;33m(\u001b[0m\u001b[1;33m)\u001b[0m\u001b[1;33m.\u001b[0m\u001b[0mto_excel\u001b[0m\u001b[1;33m(\u001b[0m\u001b[0mwriter\u001b[0m\u001b[1;33m,\u001b[0m \u001b[0msheet_name\u001b[0m\u001b[1;33m=\u001b[0m\u001b[1;34m'区域排名'\u001b[0m\u001b[1;33m,\u001b[0m\u001b[0mindex\u001b[0m\u001b[1;33m=\u001b[0m\u001b[1;32mFalse\u001b[0m\u001b[1;33m)\u001b[0m\u001b[1;33m\u001b[0m\u001b[1;33m\u001b[0m\u001b[0m\n",
      "\u001b[1;32m<ipython-input-7-8903bf99bf46>\u001b[0m in \u001b[0;36mWeb_Analysis\u001b[1;34m()\u001b[0m\n\u001b[0;32m     23\u001b[0m \u001b[1;33m\u001b[0m\u001b[0m\n\u001b[1;32m---> 24\u001b[1;33m     \u001b[0mavg\u001b[0m \u001b[1;33m=\u001b[0m \u001b[1;33m[\u001b[0m\u001b[0mround\u001b[0m\u001b[1;33m(\u001b[0m\u001b[0mwb_counts\u001b[0m\u001b[1;33m/\u001b[0m\u001b[0mwb_agent\u001b[0m\u001b[1;33m)\u001b[0m\u001b[1;33m,\u001b[0m\u001b[0mround\u001b[0m\u001b[1;33m(\u001b[0m\u001b[0maj_counts\u001b[0m\u001b[1;33m/\u001b[0m\u001b[0maj_agent\u001b[0m\u001b[1;33m)\u001b[0m\u001b[1;33m,\u001b[0m\u001b[0mround\u001b[0m\u001b[1;33m(\u001b[0m\u001b[0mfirst_counts\u001b[0m\u001b[1;33m/\u001b[0m\u001b[0mfirst_agent\u001b[0m\u001b[1;33m)\u001b[0m\u001b[1;33m,\u001b[0m\u001b[0mround\u001b[0m\u001b[1;33m(\u001b[0m\u001b[0mffx_counts\u001b[0m\u001b[1;33m/\u001b[0m\u001b[0mffx_agent\u001b[0m\u001b[1;33m)\u001b[0m\u001b[1;33m]\u001b[0m\u001b[1;33m\u001b[0m\u001b[1;33m\u001b[0m\u001b[0m\n\u001b[0m\u001b[0;32m     25\u001b[0m     \u001b[0mavg_sum\u001b[0m \u001b[1;33m=\u001b[0m \u001b[0mround\u001b[0m\u001b[1;33m(\u001b[0m\u001b[0msum\u001b[0m\u001b[1;33m(\u001b[0m\u001b[0mavg\u001b[0m\u001b[1;33m)\u001b[0m\u001b[1;33m)\u001b[0m\u001b[1;33m\u001b[0m\u001b[1;33m\u001b[0m\u001b[0m\n",
      "\u001b[1;31mZeroDivisionError\u001b[0m: division by zero",
      "\nDuring handling of the above exception, another exception occurred:\n",
      "\u001b[1;31mIndexError\u001b[0m                                Traceback (most recent call last)",
      "\u001b[1;32m<ipython-input-15-029d7a8fc247>\u001b[0m in \u001b[0;36m<module>\u001b[1;34m\u001b[0m\n\u001b[0;32m      7\u001b[0m     \u001b[0mTop5totalp_Analysis\u001b[0m\u001b[1;33m(\u001b[0m\u001b[1;33m)\u001b[0m\u001b[1;33m.\u001b[0m\u001b[0mto_excel\u001b[0m\u001b[1;33m(\u001b[0m\u001b[0mwriter\u001b[0m\u001b[1;33m,\u001b[0m \u001b[0msheet_name\u001b[0m\u001b[1;33m=\u001b[0m\u001b[1;34m'总价区域'\u001b[0m\u001b[1;33m,\u001b[0m\u001b[0mindex\u001b[0m\u001b[1;33m=\u001b[0m\u001b[1;32mFalse\u001b[0m\u001b[1;33m)\u001b[0m\u001b[1;33m\u001b[0m\u001b[1;33m\u001b[0m\u001b[0m\n\u001b[0;32m      8\u001b[0m     \u001b[0mTop5price_Analysis\u001b[0m\u001b[1;33m(\u001b[0m\u001b[1;33m)\u001b[0m\u001b[1;33m.\u001b[0m\u001b[0mto_excel\u001b[0m\u001b[1;33m(\u001b[0m\u001b[0mwriter\u001b[0m\u001b[1;33m,\u001b[0m \u001b[0msheet_name\u001b[0m\u001b[1;33m=\u001b[0m\u001b[1;34m'单价区域'\u001b[0m\u001b[1;33m,\u001b[0m\u001b[0mindex\u001b[0m\u001b[1;33m=\u001b[0m\u001b[1;32mFalse\u001b[0m\u001b[1;33m)\u001b[0m\u001b[1;33m\u001b[0m\u001b[1;33m\u001b[0m\u001b[0m\n\u001b[1;32m----> 9\u001b[1;33m     \u001b[0mTop5acrege_Analysis\u001b[0m\u001b[1;33m(\u001b[0m\u001b[1;33m)\u001b[0m\u001b[1;33m.\u001b[0m\u001b[0mto_excel\u001b[0m\u001b[1;33m(\u001b[0m\u001b[0mwriter\u001b[0m\u001b[1;33m,\u001b[0m \u001b[0msheet_name\u001b[0m\u001b[1;33m=\u001b[0m\u001b[1;34m'面积区域'\u001b[0m\u001b[1;33m,\u001b[0m\u001b[0mindex\u001b[0m\u001b[1;33m=\u001b[0m\u001b[1;32mFalse\u001b[0m\u001b[1;33m)\u001b[0m\u001b[1;33m\u001b[0m\u001b[1;33m\u001b[0m\u001b[0m\n\u001b[0m\u001b[0;32m     10\u001b[0m \u001b[0mprint\u001b[0m\u001b[1;33m(\u001b[0m\u001b[1;34m'数据统计成功'\u001b[0m\u001b[1;33m)\u001b[0m\u001b[1;33m\u001b[0m\u001b[1;33m\u001b[0m\u001b[0m\n",
      "\u001b[1;32mC:\\anaconda3\\envs\\data\\lib\\site-packages\\pandas\\io\\excel.py\u001b[0m in \u001b[0;36m__exit__\u001b[1;34m(self, exc_type, exc_value, traceback)\u001b[0m\n\u001b[0;32m   1189\u001b[0m \u001b[1;33m\u001b[0m\u001b[0m\n\u001b[0;32m   1190\u001b[0m     \u001b[1;32mdef\u001b[0m \u001b[0m__exit__\u001b[0m\u001b[1;33m(\u001b[0m\u001b[0mself\u001b[0m\u001b[1;33m,\u001b[0m \u001b[0mexc_type\u001b[0m\u001b[1;33m,\u001b[0m \u001b[0mexc_value\u001b[0m\u001b[1;33m,\u001b[0m \u001b[0mtraceback\u001b[0m\u001b[1;33m)\u001b[0m\u001b[1;33m:\u001b[0m\u001b[1;33m\u001b[0m\u001b[1;33m\u001b[0m\u001b[0m\n\u001b[1;32m-> 1191\u001b[1;33m         \u001b[0mself\u001b[0m\u001b[1;33m.\u001b[0m\u001b[0mclose\u001b[0m\u001b[1;33m(\u001b[0m\u001b[1;33m)\u001b[0m\u001b[1;33m\u001b[0m\u001b[1;33m\u001b[0m\u001b[0m\n\u001b[0m\u001b[0;32m   1192\u001b[0m \u001b[1;33m\u001b[0m\u001b[0m\n\u001b[0;32m   1193\u001b[0m     \u001b[1;32mdef\u001b[0m \u001b[0mclose\u001b[0m\u001b[1;33m(\u001b[0m\u001b[0mself\u001b[0m\u001b[1;33m)\u001b[0m\u001b[1;33m:\u001b[0m\u001b[1;33m\u001b[0m\u001b[1;33m\u001b[0m\u001b[0m\n",
      "\u001b[1;32mC:\\anaconda3\\envs\\data\\lib\\site-packages\\pandas\\io\\excel.py\u001b[0m in \u001b[0;36mclose\u001b[1;34m(self)\u001b[0m\n\u001b[0;32m   1193\u001b[0m     \u001b[1;32mdef\u001b[0m \u001b[0mclose\u001b[0m\u001b[1;33m(\u001b[0m\u001b[0mself\u001b[0m\u001b[1;33m)\u001b[0m\u001b[1;33m:\u001b[0m\u001b[1;33m\u001b[0m\u001b[1;33m\u001b[0m\u001b[0m\n\u001b[0;32m   1194\u001b[0m         \u001b[1;34m\"\"\"synonym for save, to make it more file-like\"\"\"\u001b[0m\u001b[1;33m\u001b[0m\u001b[1;33m\u001b[0m\u001b[0m\n\u001b[1;32m-> 1195\u001b[1;33m         \u001b[1;32mreturn\u001b[0m \u001b[0mself\u001b[0m\u001b[1;33m.\u001b[0m\u001b[0msave\u001b[0m\u001b[1;33m(\u001b[0m\u001b[1;33m)\u001b[0m\u001b[1;33m\u001b[0m\u001b[1;33m\u001b[0m\u001b[0m\n\u001b[0m\u001b[0;32m   1196\u001b[0m \u001b[1;33m\u001b[0m\u001b[0m\n\u001b[0;32m   1197\u001b[0m \u001b[1;33m\u001b[0m\u001b[0m\n",
      "\u001b[1;32mC:\\anaconda3\\envs\\data\\lib\\site-packages\\pandas\\io\\excel.py\u001b[0m in \u001b[0;36msave\u001b[1;34m(self)\u001b[0m\n\u001b[0;32m   1226\u001b[0m         \u001b[0mSave\u001b[0m \u001b[0mworkbook\u001b[0m \u001b[0mto\u001b[0m \u001b[0mdisk\u001b[0m\u001b[1;33m.\u001b[0m\u001b[1;33m\u001b[0m\u001b[1;33m\u001b[0m\u001b[0m\n\u001b[0;32m   1227\u001b[0m         \"\"\"\n\u001b[1;32m-> 1228\u001b[1;33m         \u001b[1;32mreturn\u001b[0m \u001b[0mself\u001b[0m\u001b[1;33m.\u001b[0m\u001b[0mbook\u001b[0m\u001b[1;33m.\u001b[0m\u001b[0msave\u001b[0m\u001b[1;33m(\u001b[0m\u001b[0mself\u001b[0m\u001b[1;33m.\u001b[0m\u001b[0mpath\u001b[0m\u001b[1;33m)\u001b[0m\u001b[1;33m\u001b[0m\u001b[1;33m\u001b[0m\u001b[0m\n\u001b[0m\u001b[0;32m   1229\u001b[0m \u001b[1;33m\u001b[0m\u001b[0m\n\u001b[0;32m   1230\u001b[0m     \u001b[1;33m@\u001b[0m\u001b[0mclassmethod\u001b[0m\u001b[1;33m\u001b[0m\u001b[1;33m\u001b[0m\u001b[0m\n",
      "\u001b[1;32mC:\\anaconda3\\envs\\data\\lib\\site-packages\\openpyxl\\workbook\\workbook.py\u001b[0m in \u001b[0;36msave\u001b[1;34m(self, filename)\u001b[0m\n\u001b[0;32m    394\u001b[0m         \u001b[1;32mif\u001b[0m \u001b[0mself\u001b[0m\u001b[1;33m.\u001b[0m\u001b[0mwrite_only\u001b[0m \u001b[1;32mand\u001b[0m \u001b[1;32mnot\u001b[0m \u001b[0mself\u001b[0m\u001b[1;33m.\u001b[0m\u001b[0mworksheets\u001b[0m\u001b[1;33m:\u001b[0m\u001b[1;33m\u001b[0m\u001b[1;33m\u001b[0m\u001b[0m\n\u001b[0;32m    395\u001b[0m             \u001b[0mself\u001b[0m\u001b[1;33m.\u001b[0m\u001b[0mcreate_sheet\u001b[0m\u001b[1;33m(\u001b[0m\u001b[1;33m)\u001b[0m\u001b[1;33m\u001b[0m\u001b[1;33m\u001b[0m\u001b[0m\n\u001b[1;32m--> 396\u001b[1;33m         \u001b[0msave_workbook\u001b[0m\u001b[1;33m(\u001b[0m\u001b[0mself\u001b[0m\u001b[1;33m,\u001b[0m \u001b[0mfilename\u001b[0m\u001b[1;33m)\u001b[0m\u001b[1;33m\u001b[0m\u001b[1;33m\u001b[0m\u001b[0m\n\u001b[0m\u001b[0;32m    397\u001b[0m \u001b[1;33m\u001b[0m\u001b[0m\n\u001b[0;32m    398\u001b[0m \u001b[1;33m\u001b[0m\u001b[0m\n",
      "\u001b[1;32mC:\\anaconda3\\envs\\data\\lib\\site-packages\\openpyxl\\writer\\excel.py\u001b[0m in \u001b[0;36msave_workbook\u001b[1;34m(workbook, filename)\u001b[0m\n\u001b[0;32m    292\u001b[0m     \u001b[0marchive\u001b[0m \u001b[1;33m=\u001b[0m \u001b[0mZipFile\u001b[0m\u001b[1;33m(\u001b[0m\u001b[0mfilename\u001b[0m\u001b[1;33m,\u001b[0m \u001b[1;34m'w'\u001b[0m\u001b[1;33m,\u001b[0m \u001b[0mZIP_DEFLATED\u001b[0m\u001b[1;33m,\u001b[0m \u001b[0mallowZip64\u001b[0m\u001b[1;33m=\u001b[0m\u001b[1;32mTrue\u001b[0m\u001b[1;33m)\u001b[0m\u001b[1;33m\u001b[0m\u001b[1;33m\u001b[0m\u001b[0m\n\u001b[0;32m    293\u001b[0m     \u001b[0mwriter\u001b[0m \u001b[1;33m=\u001b[0m \u001b[0mExcelWriter\u001b[0m\u001b[1;33m(\u001b[0m\u001b[0mworkbook\u001b[0m\u001b[1;33m,\u001b[0m \u001b[0marchive\u001b[0m\u001b[1;33m)\u001b[0m\u001b[1;33m\u001b[0m\u001b[1;33m\u001b[0m\u001b[0m\n\u001b[1;32m--> 294\u001b[1;33m     \u001b[0mwriter\u001b[0m\u001b[1;33m.\u001b[0m\u001b[0msave\u001b[0m\u001b[1;33m(\u001b[0m\u001b[1;33m)\u001b[0m\u001b[1;33m\u001b[0m\u001b[1;33m\u001b[0m\u001b[0m\n\u001b[0m\u001b[0;32m    295\u001b[0m     \u001b[1;32mreturn\u001b[0m \u001b[1;32mTrue\u001b[0m\u001b[1;33m\u001b[0m\u001b[1;33m\u001b[0m\u001b[0m\n\u001b[0;32m    296\u001b[0m \u001b[1;33m\u001b[0m\u001b[0m\n",
      "\u001b[1;32mC:\\anaconda3\\envs\\data\\lib\\site-packages\\openpyxl\\writer\\excel.py\u001b[0m in \u001b[0;36msave\u001b[1;34m(self)\u001b[0m\n\u001b[0;32m    274\u001b[0m     \u001b[1;32mdef\u001b[0m \u001b[0msave\u001b[0m\u001b[1;33m(\u001b[0m\u001b[0mself\u001b[0m\u001b[1;33m)\u001b[0m\u001b[1;33m:\u001b[0m\u001b[1;33m\u001b[0m\u001b[1;33m\u001b[0m\u001b[0m\n\u001b[0;32m    275\u001b[0m         \u001b[1;34m\"\"\"Write data into the archive.\"\"\"\u001b[0m\u001b[1;33m\u001b[0m\u001b[1;33m\u001b[0m\u001b[0m\n\u001b[1;32m--> 276\u001b[1;33m         \u001b[0mself\u001b[0m\u001b[1;33m.\u001b[0m\u001b[0mwrite_data\u001b[0m\u001b[1;33m(\u001b[0m\u001b[1;33m)\u001b[0m\u001b[1;33m\u001b[0m\u001b[1;33m\u001b[0m\u001b[0m\n\u001b[0m\u001b[0;32m    277\u001b[0m         \u001b[0mself\u001b[0m\u001b[1;33m.\u001b[0m\u001b[0m_archive\u001b[0m\u001b[1;33m.\u001b[0m\u001b[0mclose\u001b[0m\u001b[1;33m(\u001b[0m\u001b[1;33m)\u001b[0m\u001b[1;33m\u001b[0m\u001b[1;33m\u001b[0m\u001b[0m\n\u001b[0;32m    278\u001b[0m \u001b[1;33m\u001b[0m\u001b[0m\n",
      "\u001b[1;32mC:\\anaconda3\\envs\\data\\lib\\site-packages\\openpyxl\\writer\\excel.py\u001b[0m in \u001b[0;36mwrite_data\u001b[1;34m(self)\u001b[0m\n\u001b[0;32m     88\u001b[0m         \u001b[0mwriter\u001b[0m \u001b[1;33m=\u001b[0m \u001b[0mWorkbookWriter\u001b[0m\u001b[1;33m(\u001b[0m\u001b[0mself\u001b[0m\u001b[1;33m.\u001b[0m\u001b[0mworkbook\u001b[0m\u001b[1;33m)\u001b[0m\u001b[1;33m\u001b[0m\u001b[1;33m\u001b[0m\u001b[0m\n\u001b[0;32m     89\u001b[0m         \u001b[0marchive\u001b[0m\u001b[1;33m.\u001b[0m\u001b[0mwritestr\u001b[0m\u001b[1;33m(\u001b[0m\u001b[0mARC_ROOT_RELS\u001b[0m\u001b[1;33m,\u001b[0m \u001b[0mwriter\u001b[0m\u001b[1;33m.\u001b[0m\u001b[0mwrite_root_rels\u001b[0m\u001b[1;33m(\u001b[0m\u001b[1;33m)\u001b[0m\u001b[1;33m)\u001b[0m\u001b[1;33m\u001b[0m\u001b[1;33m\u001b[0m\u001b[0m\n\u001b[1;32m---> 90\u001b[1;33m         \u001b[0marchive\u001b[0m\u001b[1;33m.\u001b[0m\u001b[0mwritestr\u001b[0m\u001b[1;33m(\u001b[0m\u001b[0mARC_WORKBOOK\u001b[0m\u001b[1;33m,\u001b[0m \u001b[0mwriter\u001b[0m\u001b[1;33m.\u001b[0m\u001b[0mwrite\u001b[0m\u001b[1;33m(\u001b[0m\u001b[1;33m)\u001b[0m\u001b[1;33m)\u001b[0m\u001b[1;33m\u001b[0m\u001b[1;33m\u001b[0m\u001b[0m\n\u001b[0m\u001b[0;32m     91\u001b[0m         \u001b[0marchive\u001b[0m\u001b[1;33m.\u001b[0m\u001b[0mwritestr\u001b[0m\u001b[1;33m(\u001b[0m\u001b[0mARC_WORKBOOK_RELS\u001b[0m\u001b[1;33m,\u001b[0m \u001b[0mwriter\u001b[0m\u001b[1;33m.\u001b[0m\u001b[0mwrite_rels\u001b[0m\u001b[1;33m(\u001b[0m\u001b[1;33m)\u001b[0m\u001b[1;33m)\u001b[0m\u001b[1;33m\u001b[0m\u001b[1;33m\u001b[0m\u001b[0m\n\u001b[0;32m     92\u001b[0m \u001b[1;33m\u001b[0m\u001b[0m\n",
      "\u001b[1;32mC:\\anaconda3\\envs\\data\\lib\\site-packages\\openpyxl\\workbook\\_writer.py\u001b[0m in \u001b[0;36mwrite\u001b[1;34m(self)\u001b[0m\n\u001b[0;32m    147\u001b[0m         \u001b[0mself\u001b[0m\u001b[1;33m.\u001b[0m\u001b[0mwrite_names\u001b[0m\u001b[1;33m(\u001b[0m\u001b[1;33m)\u001b[0m\u001b[1;33m\u001b[0m\u001b[1;33m\u001b[0m\u001b[0m\n\u001b[0;32m    148\u001b[0m         \u001b[0mself\u001b[0m\u001b[1;33m.\u001b[0m\u001b[0mwrite_pivots\u001b[0m\u001b[1;33m(\u001b[0m\u001b[1;33m)\u001b[0m\u001b[1;33m\u001b[0m\u001b[1;33m\u001b[0m\u001b[0m\n\u001b[1;32m--> 149\u001b[1;33m         \u001b[0mself\u001b[0m\u001b[1;33m.\u001b[0m\u001b[0mwrite_views\u001b[0m\u001b[1;33m(\u001b[0m\u001b[1;33m)\u001b[0m\u001b[1;33m\u001b[0m\u001b[1;33m\u001b[0m\u001b[0m\n\u001b[0m\u001b[0;32m    150\u001b[0m         \u001b[0mself\u001b[0m\u001b[1;33m.\u001b[0m\u001b[0mwrite_refs\u001b[0m\u001b[1;33m(\u001b[0m\u001b[1;33m)\u001b[0m\u001b[1;33m\u001b[0m\u001b[1;33m\u001b[0m\u001b[0m\n\u001b[0;32m    151\u001b[0m \u001b[1;33m\u001b[0m\u001b[0m\n",
      "\u001b[1;32mC:\\anaconda3\\envs\\data\\lib\\site-packages\\openpyxl\\workbook\\_writer.py\u001b[0m in \u001b[0;36mwrite_views\u001b[1;34m(self)\u001b[0m\n\u001b[0;32m    134\u001b[0m \u001b[1;33m\u001b[0m\u001b[0m\n\u001b[0;32m    135\u001b[0m     \u001b[1;32mdef\u001b[0m \u001b[0mwrite_views\u001b[0m\u001b[1;33m(\u001b[0m\u001b[0mself\u001b[0m\u001b[1;33m)\u001b[0m\u001b[1;33m:\u001b[0m\u001b[1;33m\u001b[0m\u001b[1;33m\u001b[0m\u001b[0m\n\u001b[1;32m--> 136\u001b[1;33m         \u001b[0mactive\u001b[0m \u001b[1;33m=\u001b[0m \u001b[0mget_active_sheet\u001b[0m\u001b[1;33m(\u001b[0m\u001b[0mself\u001b[0m\u001b[1;33m.\u001b[0m\u001b[0mwb\u001b[0m\u001b[1;33m)\u001b[0m\u001b[1;33m\u001b[0m\u001b[1;33m\u001b[0m\u001b[0m\n\u001b[0m\u001b[0;32m    137\u001b[0m         \u001b[1;32mif\u001b[0m \u001b[0mself\u001b[0m\u001b[1;33m.\u001b[0m\u001b[0mwb\u001b[0m\u001b[1;33m.\u001b[0m\u001b[0mviews\u001b[0m\u001b[1;33m:\u001b[0m\u001b[1;33m\u001b[0m\u001b[1;33m\u001b[0m\u001b[0m\n\u001b[0;32m    138\u001b[0m             \u001b[0mself\u001b[0m\u001b[1;33m.\u001b[0m\u001b[0mwb\u001b[0m\u001b[1;33m.\u001b[0m\u001b[0mviews\u001b[0m\u001b[1;33m[\u001b[0m\u001b[1;36m0\u001b[0m\u001b[1;33m]\u001b[0m\u001b[1;33m.\u001b[0m\u001b[0mactiveTab\u001b[0m \u001b[1;33m=\u001b[0m \u001b[0mactive\u001b[0m\u001b[1;33m\u001b[0m\u001b[1;33m\u001b[0m\u001b[0m\n",
      "\u001b[1;32mC:\\anaconda3\\envs\\data\\lib\\site-packages\\openpyxl\\workbook\\_writer.py\u001b[0m in \u001b[0;36mget_active_sheet\u001b[1;34m(wb)\u001b[0m\n\u001b[0;32m     32\u001b[0m     \u001b[0mvisible_sheets\u001b[0m \u001b[1;33m=\u001b[0m \u001b[1;33m[\u001b[0m\u001b[0midx\u001b[0m \u001b[1;32mfor\u001b[0m \u001b[0midx\u001b[0m\u001b[1;33m,\u001b[0m \u001b[0msheet\u001b[0m \u001b[1;32min\u001b[0m \u001b[0menumerate\u001b[0m\u001b[1;33m(\u001b[0m\u001b[0mwb\u001b[0m\u001b[1;33m.\u001b[0m\u001b[0m_sheets\u001b[0m\u001b[1;33m)\u001b[0m \u001b[1;32mif\u001b[0m \u001b[0msheet\u001b[0m\u001b[1;33m.\u001b[0m\u001b[0msheet_state\u001b[0m \u001b[1;33m==\u001b[0m \u001b[1;34m\"visible\"\u001b[0m\u001b[1;33m]\u001b[0m\u001b[1;33m\u001b[0m\u001b[1;33m\u001b[0m\u001b[0m\n\u001b[0;32m     33\u001b[0m     \u001b[1;32mif\u001b[0m \u001b[1;32mnot\u001b[0m \u001b[0mvisible_sheets\u001b[0m\u001b[1;33m:\u001b[0m\u001b[1;33m\u001b[0m\u001b[1;33m\u001b[0m\u001b[0m\n\u001b[1;32m---> 34\u001b[1;33m         \u001b[1;32mraise\u001b[0m \u001b[0mIndexError\u001b[0m\u001b[1;33m(\u001b[0m\u001b[1;34m\"At least one sheet must be visible\"\u001b[0m\u001b[1;33m)\u001b[0m\u001b[1;33m\u001b[0m\u001b[1;33m\u001b[0m\u001b[0m\n\u001b[0m\u001b[0;32m     35\u001b[0m \u001b[1;33m\u001b[0m\u001b[0m\n\u001b[0;32m     36\u001b[0m     \u001b[0midx\u001b[0m \u001b[1;33m=\u001b[0m \u001b[0mwb\u001b[0m\u001b[1;33m.\u001b[0m\u001b[0m_active_sheet_index\u001b[0m\u001b[1;33m\u001b[0m\u001b[1;33m\u001b[0m\u001b[0m\n",
      "\u001b[1;31mIndexError\u001b[0m: At least one sheet must be visible"
     ]
    }
   ],
   "source": [
    "with pd.ExcelWriter( r'D:/Excel/fang_tan.xlsx') as writer:\n",
    "    Web_Analysis().to_excel(writer, sheet_name='网络来源',index=False)\n",
    "    Region_Analysis().to_excel(writer, sheet_name='区域排名',index=False)\n",
    "    Totalp_Analysis().to_excel(writer, sheet_name='总价排名',index=False)\n",
    "    Price_Analysis().to_excel(writer, sheet_name='单价排名',index=False)\n",
    "    Acreage_Analysis().to_excel(writer, sheet_name='面积排名',index=False)\n",
    "    Top5totalp_Analysis().to_excel(writer, sheet_name='总价区域',index=False)\n",
    "    Top5price_Analysis().to_excel(writer, sheet_name='单价区域',index=False)\n",
    "    Top5acrege_Analysis().to_excel(writer, sheet_name='面积区域',index=False)\n",
    "print('数据统计成功')"
   ]
  },
  {
   "cell_type": "code",
   "execution_count": null,
   "metadata": {},
   "outputs": [],
   "source": []
  },
  {
   "cell_type": "code",
   "execution_count": null,
   "metadata": {},
   "outputs": [],
   "source": []
  }
 ],
 "metadata": {
  "kernelspec": {
   "display_name": "Python 3",
   "language": "python",
   "name": "python3"
  },
  "language_info": {
   "codemirror_mode": {
    "name": "ipython",
    "version": 3
   },
   "file_extension": ".py",
   "mimetype": "text/x-python",
   "name": "python",
   "nbconvert_exporter": "python",
   "pygments_lexer": "ipython3",
   "version": "3.7.1"
  }
 },
 "nbformat": 4,
 "nbformat_minor": 2
}
