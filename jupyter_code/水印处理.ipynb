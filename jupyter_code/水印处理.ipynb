{
 "cells": [
  {
   "cell_type": "code",
   "execution_count": 4,
   "metadata": {
    "collapsed": false
   },
   "outputs": [
    {
     "name": "stdout",
     "output_type": "stream",
     "text": [
      "C:\\Users\\shuaixianjing\\Desktop\\yasuo\\1494424197.jpg 600 450 53912\n"
     ]
    }
   ],
   "source": [
    "from glob import glob\n",
    "from PIL import Image\n",
    "import os\n",
    "import math\n",
    "\n",
    "target_dir = r'C:\\Users\\Administrator\\Desktop\\yasuo\\'\n",
    "out_idr = r'C:\\Users\\Administrator\\Desktop\\result2\\'\n",
    "filenames = glob('{}/*'.format(target_dir))\n",
    "for filename in filenames:\n",
    "    with Image.open(filename) as im:\n",
    "        width,height = im.size\n",
    "        print(filename, width, height, os.path.getsize(filename))\n",
    "        mark=Image.open(r\"C:\\Users\\Administrator\\Desktop\\a.jpg\")\n",
    "        layer=Image.new('RGBA', im.size, (0,0,0,0)) \n",
    "        layer.paste(mark, (im.size[0]-230,im.size[1]-50))\n",
    "        out=Image.composite(layer,im,layer)\n",
    "        index= filename.rindex('\\\\')+1\n",
    "        out.save(out_idr+filename[index:])"
   ]
  },
  {
   "cell_type": "code",
   "execution_count": null,
   "metadata": {
    "collapsed": true
   },
   "outputs": [],
   "source": []
  },
  {
   "cell_type": "code",
   "execution_count": null,
   "metadata": {
    "collapsed": true
   },
   "outputs": [],
   "source": []
  }
 ],
 "metadata": {
  "kernelspec": {
   "display_name": "Python 3",
   "language": "python",
   "name": "python3"
  },
  "language_info": {
   "codemirror_mode": {
    "name": "ipython",
    "version": 3
   },
   "file_extension": ".py",
   "mimetype": "text/x-python",
   "name": "python",
   "nbconvert_exporter": "python",
   "pygments_lexer": "ipython3",
   "version": "3.7.1"
  }
 },
 "nbformat": 4,
 "nbformat_minor": 2
}
