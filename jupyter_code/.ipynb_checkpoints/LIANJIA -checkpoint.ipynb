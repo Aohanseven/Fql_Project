{
 "cells": [
  {
   "cell_type": "code",
   "execution_count": 5,
   "metadata": {},
   "outputs": [],
   "source": [
    "# -*- coding:utf-8 -*-\n",
    "'''\n",
    "Created on 2018年5月28日\n",
    "@author: LiYongFu\n",
    "'''\n",
    "import sys\n",
    "import importlib,sys \n",
    "import requests\n",
    "from lxml import etree\n",
    "\n",
    "def fetchLianJiaData(pageNum):\n",
    "    savedir=\"E:/lianjia/\"\n",
    "    datafile=savedir+\"page\"\n",
    "    url=\"https://cd.lianjia.com/ershoufang/pg\"\n",
    "    for i in range(1,pageNum+1):\n",
    "        try:\n",
    "            fp=open(datafile+str(i),\"w\")\n",
    "            response = requests.get(url+str(i));\n",
    "            tree=etree.HTML(response.text)\n",
    "            rowDivList=tree.xpath(\"/html/body/div[4]/div[1]/ul/li/div[1]\")\n",
    "            for rowDiv in rowDivList:\n",
    "                colDivList=rowDiv.getchildren()\n",
    "                colTextList=list()\n",
    "                for colDiv in colDivList:\n",
    "                    colTexts=\"\".join(colDiv.xpath(\".//text()\"))\n",
    "                    colTextList.append(colTexts);\n",
    "                    pass\n",
    "                rowText=\";\".join(colTextList)\n",
    "                fp.write(rowText+\"\\n\");\n",
    "                print(\"ok\")\n",
    "                pass\n",
    "#         except Exception,e:\n",
    "        except e:\n",
    "            sys.exc_info()[1]\n",
    "            pass\n",
    "        finally:\n",
    "            if fp is not None:fp.close()\n",
    "            pass\n",
    "        pass\n",
    "\n",
    "if __name__==\"__main__\":\n",
    "    \n",
    "    importlib.reload(sys)\n",
    "#     reload(sys)\n",
    "#     eval(\"sys.setdefaultencoding('utf-8')\")\n",
    "    fetchLianJiaData(100)\n",
    "    pass\n"
   ]
  },
  {
   "cell_type": "code",
   "execution_count": null,
   "metadata": {
    "collapsed": true
   },
   "outputs": [],
   "source": []
  }
 ],
 "metadata": {
  "kernelspec": {
   "display_name": "Python 3",
   "language": "python",
   "name": "python3"
  },
  "language_info": {
   "codemirror_mode": {
    "name": "ipython",
    "version": 3
   },
   "file_extension": ".py",
   "mimetype": "text/x-python",
   "name": "python",
   "nbconvert_exporter": "python",
   "pygments_lexer": "ipython3",
   "version": "3.7.1"
  }
 },
 "nbformat": 4,
 "nbformat_minor": 2
}
