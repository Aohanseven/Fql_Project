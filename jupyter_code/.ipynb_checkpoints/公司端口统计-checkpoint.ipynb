{
 "cells": [
  {
   "cell_type": "code",
   "execution_count": null,
   "metadata": {},
   "outputs": [],
   "source": [
    "from impala.dbapi import connect\n",
    "from impala.util import as_pandas\n",
    "import pandas as pd\n",
    "import pymysql\n",
    "import xlwt\n",
    "import re\n",
    "import asyncio\n",
    "\n",
    "def hive(start_time,end_time):\n",
    "    cur = connect(host='192.168.0.252',port=10000,database='default').cursor()\n",
    "    try:\n",
    "        print('hive 连接成功')\n",
    "        cur.execute(\"select * from dianpu_new where pub_date between '%s' and '%s'\" %(start_time,end_time))\n",
    "        hive_data = as_pandas(cur) \n",
    "        return hive_data\n",
    "\n",
    "    finally:\n",
    "        cur.close()"
   ]
  },
  {
   "cell_type": "code",
   "execution_count": null,
   "metadata": {},
   "outputs": [],
   "source": [
    "def rename_company(cp_name):\n",
    "    if('菲斯特' in cp_name):\n",
    "        cp_name = '菲斯特'\n",
    "    elif('蓉投' in cp_name):\n",
    "        cp_name = '蓉投地产'\n",
    "    elif('卓为' in cp_name):\n",
    "        cp_name = '卓为地产'\n",
    "    elif('好房屋' in cp_name):\n",
    "        cp_name = '好房屋'\n",
    "    elif('积木时代' in cp_name):\n",
    "        cp_name = '积木时代'\n",
    "    elif('宏迈' in cp_name):\n",
    "        cp_name = '宏迈'\n",
    "    elif('好租科技' in cp_name):\n",
    "        cp_name = '好租科技'\n",
    "    elif('锦晨' in cp_name):\n",
    "        cp_name = '锦晨房地产'\n",
    "    elif('上好家佳' in cp_name):\n",
    "        cp_name = '上好家佳'\n",
    "    elif('德诚' in cp_name):\n",
    "        cp_name = '德诚商业地产'\n",
    "    elif('金琥珀' in cp_name):\n",
    "        cp_name = '金琥珀地产'\n",
    "    elif('诚信德' in cp_name):\n",
    "        cp_name = '诚信德地产'\n",
    "    elif('玖零时代' in cp_name):\n",
    "        cp_name = '玖零时代地产'\n",
    "    elif('大云合' in cp_name):\n",
    "        cp_name = '大云合地产'\n",
    "    elif('易多鑫' in cp_name):\n",
    "        cp_name = '易多鑫房产'\n",
    "    elif('尔东成' in cp_name):\n",
    "        cp_name = '尔东成地产'\n",
    "    elif('大唐' in cp_name):\n",
    "        cp_name = '大唐房屋'\n",
    "    elif('大兴业' in cp_name):\n",
    "        cp_name = '大兴业房地产'\n",
    "    elif('新地标' in cp_name):\n",
    "        cp_name = '新地标地产'\n",
    "    elif('世界树' in cp_name):\n",
    "        cp_name = '世界树房地产'\n",
    "    elif('中原' in cp_name):\n",
    "        cp_name = '中原'\n",
    "    elif('万兴合' in cp_name):\n",
    "        cp_name = '万兴合地产'\n",
    "    elif('满仓' in cp_name):\n",
    "        cp_name = '满仓地产'\n",
    "    elif('丰联' in cp_name):\n",
    "        cp_name = '丰联房产'\n",
    "    elif('众合' in cp_name):\n",
    "        cp_name = '众合诚地产'\n",
    "    elif('望麒' in cp_name):\n",
    "        cp_name = '望麒房产'\n",
    "    elif('领房' in cp_name):\n",
    "        cp_name = '领房地产'\n",
    "    elif('圣菲房产' in cp_name):\n",
    "        cp_name = '圣菲房产'\n",
    "    return cp_name"
   ]
  },
  {
   "cell_type": "code",
   "execution_count": null,
   "metadata": {},
   "outputs": [],
   "source": [
    "def dataframe_manage(start_time,end_time):\n",
    "    df = hive(start_time,end_time)\n",
    "    df.columns = [(column.replace('dianpu_new.','')) for column in df.columns.tolist()]\n",
    "    df = df.drop(df[df['address']==None].index.tolist())\n",
    "    df.dropna(how='any',axis=0)\n",
    "    return df"
   ]
  },
  {
   "cell_type": "code",
   "execution_count": null,
   "metadata": {},
   "outputs": [],
   "source": [
    "def get_df(start_time,end_time):\n",
    "    df  = dataframe_manage(start_time,end_time)\n",
    "\n",
    "    df = df.loc[:,['from_web','agent_company','agent_name']]\n",
    "\n",
    "    df = df[df['agent_company']!='']\n",
    "\n",
    "    df = df.dropna(axis=0,how='any')\n",
    "    \n",
    "    df['agent_company']=df['agent_company'].map(rename_company)\n",
    "    \n",
    "    return df"
   ]
  },
  {
   "cell_type": "code",
   "execution_count": null,
   "metadata": {},
   "outputs": [],
   "source": [
    "def Agent_counts(df):\n",
    "    \n",
    "    df['counts'] = 1\n",
    "\n",
    "    df1 = df.drop('from_web',axis=1)\n",
    "\n",
    "    df2 = df1.drop_duplicates(['agent_name'], keep='first')\n",
    "\n",
    "    df3 = df2.groupby(df2['agent_company']).sum()\n",
    "\n",
    "    agent_counts = pd.DataFrame(df3)\n",
    "    \n",
    "    return agent_counts"
   ]
  },
  {
   "cell_type": "code",
   "execution_count": null,
   "metadata": {},
   "outputs": [],
   "source": [
    "def Web_counts(df):\n",
    "    \n",
    "    \n",
    "    df1 = pd.DataFrame(df.groupby(df['agent_company']).count())\n",
    "\n",
    "    df2 = pd.DataFrame(df1.drop('agent_name',axis=1).rename(columns={'from_web':'web_counts'}))\n",
    "    \n",
    "    web_counts = pd.DataFrame(df2.drop('counts',axis=1))\n",
    "    \n",
    "    return web_counts"
   ]
  },
  {
   "cell_type": "code",
   "execution_count": null,
   "metadata": {},
   "outputs": [],
   "source": [
    "def Ajk_counts(df):\n",
    "    df['counts'] = 1\n",
    "\n",
    "    df1 = df.drop_duplicates(['agent_name'], keep='first')\n",
    "\n",
    "    df2 = df1[df1['from_web']==1].groupby(df1['agent_company']).count()\n",
    "\n",
    "    df3 = pd.DataFrame(df2.drop(['agent_company','agent_name','counts'],axis=1))\n",
    "    \n",
    "    ajk_counts = pd.DataFrame(df3.rename(columns={'from_web':'ajk_counts'}))\n",
    "\n",
    "    \n",
    "    return  ajk_counts\n"
   ]
  },
  {
   "cell_type": "code",
   "execution_count": null,
   "metadata": {},
   "outputs": [],
   "source": [
    "def Wb_counts(df):\n",
    "    df['counts'] = 1\n",
    "    \n",
    "    df1 = df.drop_duplicates(['agent_name'], keep='first')\n",
    "\n",
    "    df2 = df1[df1['from_web']==2].groupby(df1['agent_company']).count()\n",
    "\n",
    "    df3 = pd.DataFrame(df2.drop(['agent_company','agent_name','counts'],axis=1))\n",
    "    \n",
    "    wb_counts = pd.DataFrame(df3.rename(columns={'from_web':'wb_counts'}))\n",
    "\n",
    "    return wb_counts"
   ]
  },
  {
   "cell_type": "code",
   "execution_count": null,
   "metadata": {
    "scrolled": true
   },
   "outputs": [],
   "source": [
    "def meage_frame(start_time,end_time):\n",
    "    \n",
    "    df = get_df(start_time,end_time)\n",
    "    agent_counts = Agent_counts(df)\n",
    "    \n",
    "    web_counts  = Web_counts(df)\n",
    "    \n",
    "    ajk_counts = Ajk_counts(df)\n",
    "    \n",
    "    wb_counts = Wb_counts(df)\n",
    "\n",
    "    df1 = pd.merge(agent_counts,ajk_counts,on='agent_company',how='outer')\n",
    "\n",
    "    df2 = pd.merge(df1,wb_counts,on='agent_company',how='outer')\n",
    "\n",
    "    df3 = pd.merge(df2,web_counts,on='agent_company',how='inner')\n",
    "\n",
    "    df3['arg_counts'] = round(df3['web_counts']/df3['counts'])\n",
    "\n",
    "    df3.columns = ['端口数','安居客端口数','58端口数','总发布量','人均发布量']\n",
    "\n",
    "    df3.index.name = '公司名称'\n",
    "\n",
    "    agent_frame = df3.fillna(0)\n",
    "    return agent_frame"
   ]
  },
  {
   "cell_type": "code",
   "execution_count": null,
   "metadata": {},
   "outputs": [],
   "source": [
    "with pd.ExcelWriter( r'D:/Excel/网络端口统计.xlsx') as writer:\n",
    "    meage_frame('2019-04-19','2019-05-19').to_excel(writer, sheet_name='月度表',index=True)\n",
    "    meage_frame('2019-05-14','2019-05-19').to_excel(writer, sheet_name='半月表',index=True)\n",
    "    meage_frame('2019-05-13','2019-05-19').to_excel(writer, sheet_name='周表',index=True)\n",
    " "
   ]
  },
  {
   "cell_type": "code",
   "execution_count": null,
   "metadata": {},
   "outputs": [],
   "source": []
  }
 ],
 "metadata": {
  "kernelspec": {
   "display_name": "Python 3",
   "language": "python",
   "name": "python3"
  },
  "language_info": {
   "codemirror_mode": {
    "name": "ipython",
    "version": 3
   },
   "file_extension": ".py",
   "mimetype": "text/x-python",
   "name": "python",
   "nbconvert_exporter": "python",
   "pygments_lexer": "ipython3",
   "version": "3.7.1"
  }
 },
 "nbformat": 4,
 "nbformat_minor": 2
}
