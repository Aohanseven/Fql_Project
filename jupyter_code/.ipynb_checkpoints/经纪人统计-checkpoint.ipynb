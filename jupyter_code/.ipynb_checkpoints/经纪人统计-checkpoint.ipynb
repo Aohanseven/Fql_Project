{
 "cells": [
  {
   "cell_type": "code",
   "execution_count": 2,
   "metadata": {},
   "outputs": [
    {
     "ename": "ModuleNotFoundError",
     "evalue": "No module named 'impala'",
     "output_type": "error",
     "traceback": [
      "\u001b[1;31m---------------------------------------------------------------------------\u001b[0m",
      "\u001b[1;31mModuleNotFoundError\u001b[0m                       Traceback (most recent call last)",
      "\u001b[1;32m<ipython-input-2-37e9316a3129>\u001b[0m in \u001b[0;36m<module>\u001b[1;34m\u001b[0m\n\u001b[1;32m----> 1\u001b[1;33m \u001b[1;32mfrom\u001b[0m \u001b[0mimpala\u001b[0m\u001b[1;33m.\u001b[0m\u001b[0mdbapi\u001b[0m \u001b[1;32mimport\u001b[0m \u001b[0mconnect\u001b[0m\u001b[1;33m\u001b[0m\u001b[1;33m\u001b[0m\u001b[0m\n\u001b[0m\u001b[0;32m      2\u001b[0m \u001b[1;32mfrom\u001b[0m \u001b[0mimpala\u001b[0m\u001b[1;33m.\u001b[0m\u001b[0mutil\u001b[0m \u001b[1;32mimport\u001b[0m \u001b[0mas_pandas\u001b[0m\u001b[1;33m\u001b[0m\u001b[1;33m\u001b[0m\u001b[0m\n\u001b[0;32m      3\u001b[0m \u001b[1;32mimport\u001b[0m \u001b[0mpandas\u001b[0m \u001b[1;32mas\u001b[0m \u001b[0mpd\u001b[0m\u001b[1;33m\u001b[0m\u001b[1;33m\u001b[0m\u001b[0m\n\u001b[0;32m      4\u001b[0m \u001b[1;32mimport\u001b[0m \u001b[0mpymysql\u001b[0m\u001b[1;33m\u001b[0m\u001b[1;33m\u001b[0m\u001b[0m\n\u001b[0;32m      5\u001b[0m \u001b[1;32mimport\u001b[0m \u001b[0mxlwt\u001b[0m\u001b[1;33m\u001b[0m\u001b[1;33m\u001b[0m\u001b[0m\n",
      "\u001b[1;31mModuleNotFoundError\u001b[0m: No module named 'impala'"
     ]
    }
   ],
   "source": [
    "from impala.dbapi import connect\n",
    "from impala.util import as_pandas\n",
    "import pandas as pd\n",
    "import pymysql\n",
    "import xlwt\n",
    "import re"
   ]
  },
  {
   "cell_type": "code",
   "execution_count": 3,
   "metadata": {},
   "outputs": [],
   "source": [
    "def hive():\n",
    "    cur = connect(host='192.168.0.252',port=10000,database='default').cursor()\n",
    "    print('hive 连接成功')\n",
    "    cur.execute(\"select agent_company,agent_name,agent_tell from dianpu_new\")\n",
    "    hive_data = as_pandas(cur) \n",
    "    cur.close()\n",
    "    return hive_data"
   ]
  },
  {
   "cell_type": "code",
   "execution_count": 1,
   "metadata": {},
   "outputs": [],
   "source": [
    "def rename_company(cp_name):\n",
    "    if('菲斯特' in cp_name):\n",
    "        cp_name = '菲斯特'\n",
    "    elif('蓉投' in cp_name):\n",
    "        cp_name = '蓉投地产'\n",
    "    elif('卓为' in cp_name):\n",
    "        cp_name = '卓为地产'\n",
    "    elif('好房屋' in cp_name):\n",
    "        cp_name = '好房屋'\n",
    "    elif('积木时代' in cp_name):\n",
    "        cp_name = '积木时代'\n",
    "    elif('宏迈' in cp_name):\n",
    "        cp_name = '宏迈'\n",
    "    elif('好租科技' in cp_name):\n",
    "        cp_name = '好租科技'\n",
    "    elif('锦晨' in cp_name):\n",
    "        cp_name = '锦晨房地产'\n",
    "    elif('上好家佳' in cp_name):\n",
    "        cp_name = '上好家佳'\n",
    "    elif('德诚' in cp_name):\n",
    "        cp_name = '德诚商业地产'\n",
    "    elif('金琥珀' in cp_name):\n",
    "        cp_name = '金琥珀地产'\n",
    "    elif('诚信德' in cp_name):\n",
    "        cp_name = '诚信德地产'\n",
    "    elif('玖零时代' in cp_name):\n",
    "        cp_name = '玖零时代地产'\n",
    "    elif('大云合' in cp_name):\n",
    "        cp_name = '大云合地产'\n",
    "    elif('易多鑫' in cp_name):\n",
    "        cp_name = '易多鑫房产'\n",
    "    elif('尔东成' in cp_name):\n",
    "        cp_name = '尔东成地产'\n",
    "    elif('大唐' in cp_name):\n",
    "        cp_name = '大唐房屋'\n",
    "    elif('大兴业' in cp_name):\n",
    "        cp_name = '大兴业房地产'\n",
    "    elif('新地标' in cp_name):\n",
    "        cp_name = '新地标地产'\n",
    "    elif('世界树' in cp_name):\n",
    "        cp_name = '世界树房地产'\n",
    "    elif('中原' in cp_name):\n",
    "        cp_name = '中原'\n",
    "    elif('万兴合' in cp_name):\n",
    "        cp_name = '万兴合地产'\n",
    "    elif('满仓' in cp_name):\n",
    "        cp_name = '满仓地产'\n",
    "    elif('丰联' in cp_name):\n",
    "        cp_name = '丰联房产'\n",
    "    elif('众合' in cp_name):\n",
    "        cp_name = '众合诚地产'\n",
    "    elif('望麒' in cp_name):\n",
    "        cp_name = '望麒房产'\n",
    "    elif('领房' in cp_name):\n",
    "        cp_name = '领房地产'\n",
    "    elif('圣菲房产' in cp_name):\n",
    "        cp_name = '圣菲房产'\n",
    "    return cp_name"
   ]
  },
  {
   "cell_type": "code",
   "execution_count": 59,
   "metadata": {},
   "outputs": [
    {
     "name": "stdout",
     "output_type": "stream",
     "text": [
      "hive 连接成功\n"
     ]
    }
   ],
   "source": [
    "df = hive()"
   ]
  },
  {
   "cell_type": "code",
   "execution_count": null,
   "metadata": {},
   "outputs": [],
   "source": [
    " df['agent_company']=df['agent_company'].map(rename_company)"
   ]
  },
  {
   "cell_type": "code",
   "execution_count": 60,
   "metadata": {},
   "outputs": [],
   "source": [
    "df.drop_duplicates(inplace=True)"
   ]
  },
  {
   "cell_type": "code",
   "execution_count": 63,
   "metadata": {},
   "outputs": [],
   "source": [
    "df1 = df[df['agent_company']!='']"
   ]
  },
  {
   "cell_type": "code",
   "execution_count": 65,
   "metadata": {},
   "outputs": [],
   "source": [
    "df2 =df1[df1['agent_name']!='']"
   ]
  },
  {
   "cell_type": "code",
   "execution_count": 67,
   "metadata": {},
   "outputs": [],
   "source": [
    "df2.to_excel( r'D:/Excel/经纪人统计.xlsx',index=False)"
   ]
  },
  {
   "cell_type": "code",
   "execution_count": 34,
   "metadata": {},
   "outputs": [],
   "source": []
  },
  {
   "cell_type": "code",
   "execution_count": null,
   "metadata": {},
   "outputs": [],
   "source": []
  }
 ],
 "metadata": {
  "kernelspec": {
   "display_name": "Python 3",
   "language": "python",
   "name": "python3"
  },
  "language_info": {
   "codemirror_mode": {
    "name": "ipython",
    "version": 3
   },
   "file_extension": ".py",
   "mimetype": "text/x-python",
   "name": "python",
   "nbconvert_exporter": "python",
   "pygments_lexer": "ipython3",
   "version": "3.7.1"
  }
 },
 "nbformat": 4,
 "nbformat_minor": 2
}
