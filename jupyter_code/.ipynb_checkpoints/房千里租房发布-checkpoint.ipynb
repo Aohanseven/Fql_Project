{
 "cells": [
  {
   "cell_type": "code",
   "execution_count": 13,
   "metadata": {},
   "outputs": [],
   "source": [
    "from selenium import webdriver\n",
    "from selenium.webdriver.support import expected_conditions as EC\n",
    "from selenium.webdriver.support.ui import WebDriverWait\n",
    "from selenium.webdriver.common.by import By\n",
    "from selenium.webdriver.common.keys import Keys\n",
    "from selenium.webdriver.common.action_chains import ActionChains\n",
    "from selenium.webdriver.support.select import Select\n",
    "import time\n",
    "from selenium.common.exceptions import TimeoutException\n",
    "import os\n",
    "import random\n",
    "import pymysql\n",
    "import re\n",
    "import redis"
   ]
  },
  {
   "cell_type": "code",
   "execution_count": 2,
   "metadata": {},
   "outputs": [],
   "source": [
    "browser = webdriver.Chrome(r'C:\\Users\\Administrator\\Downloads\\chromedriver.exe')\n",
    "browser.get('http://fangqianli.com/')"
   ]
  },
  {
   "cell_type": "code",
   "execution_count": 3,
   "metadata": {},
   "outputs": [],
   "source": [
    " browser.find_element_by_xpath('//*[@id=\"DengL\"]').click()"
   ]
  },
  {
   "cell_type": "code",
   "execution_count": 4,
   "metadata": {},
   "outputs": [],
   "source": [
    "browser.find_element_by_xpath('//*[@id=\"username\"]').send_keys('tan2577811')"
   ]
  },
  {
   "cell_type": "code",
   "execution_count": 5,
   "metadata": {},
   "outputs": [],
   "source": [
    "browser.find_element_by_xpath('//*[@id=\"psw\"]').send_keys('a2577811')"
   ]
  },
  {
   "cell_type": "code",
   "execution_count": 6,
   "metadata": {},
   "outputs": [],
   "source": [
    "browser.find_element_by_xpath('//*[@id=\"loginbtn\"]').click()"
   ]
  },
  {
   "cell_type": "code",
   "execution_count": 7,
   "metadata": {},
   "outputs": [],
   "source": [
    "browser.find_element_by_xpath('//*[@id=\"app\"]/div[1]/div/div[2]/div[6]/a').click()"
   ]
  },
  {
   "cell_type": "code",
   "execution_count": 8,
   "metadata": {},
   "outputs": [],
   "source": [
    "browser.find_element_by_xpath('//*[@id=\"Middle\"]/div[1]/div[1]').click()"
   ]
  },
  {
   "cell_type": "code",
   "execution_count": 30,
   "metadata": {},
   "outputs": [],
   "source": [
    "def Read_data():\n",
    "    con = pymysql.connect(\n",
    "    host='192.168.0.252',\n",
    "    user='web_user',\n",
    "    passwd='first2018pl,',\n",
    "    port=3306,\n",
    "    db='FBDdata2',\n",
    "    charset='utf8',\n",
    "    cursorclass=pymysql.cursors.DictCursor\n",
    "    )\n",
    "    r = redis.Redis(host='localhost', port=6379)\n",
    "    redis_data_dict_1 = \"fqlzu_id\"\n",
    "    id1 = bytes.decode(r.spop(redis_data_dict_1))\n",
    "\n",
    "    cursor = con.cursor()\n",
    "    sql = 'select * from anjuke_shop_data_copy1 WHERE id=%s' % id1\n",
    "    cursor.execute(sql)\n",
    "    result = cursor.fetchone()\n",
    "    status = result['store_status']\n",
    "    acreage = result['acreage']\n",
    "    floor = result['floor']\n",
    "    in_floor = re.search('(\\d)层',floor).group(1)\n",
    "    all_floor = re.search('共(\\d)层',floor).group(1)\n",
    "    width = result['width']\n",
    "    height = result['heigth']\n",
    "    depth = result['depth']\n",
    "    address = result['address'].split(',')\n",
    "    try:\n",
    "        len(address) == 3\n",
    "        region = address[0]\n",
    "        local = address[1]\n",
    "        pisition = address[2]\n",
    "    except:\n",
    "        print('出错')\n",
    "    monthly_rent = result['monthly_rent']\n",
    "    payment_method = re.findall('\\d',result['monthly_rent'])\n",
    "    payment_method = result['lease_term']\n",
    "    title = result['title']\n",
    "    content  = result['content']\n",
    "    agent_name = result['agent_name']\n",
    "    agent_phone = result['agent_phone']\n",
    "    print(status,acreage,in_floor,all_floor)"
   ]
  },
  {
   "cell_type": "code",
   "execution_count": 29,
   "metadata": {},
   "outputs": [
    {
     "name": "stdout",
     "output_type": "stream",
     "text": [
      "空铺出租/转让 610 2 4\n"
     ]
    }
   ],
   "source": []
  },
  {
   "cell_type": "code",
   "execution_count": 13,
   "metadata": {},
   "outputs": [],
   "source": [
    "def Update_image(images_path):\n",
    "    images_path='C:/Users/Administrator/Desktop/fql_image/69908858/is_ok/'\n",
    "    for i in os.listdir(images_path):\n",
    "        image = images_path + i\n",
    "        browser.find_element_by_xpath('//*[@id=\"Form1\"]/div[13]/div[4]/div/div/ul/li/input').send_keys(image)"
   ]
  },
  {
   "cell_type": "code",
   "execution_count": 15,
   "metadata": {},
   "outputs": [],
   "source": [
    "def Input_data():\n",
    "    browser.find_element_by_xpath('//*[@id=\"Form1\"]/div[2]/div/div[2]/input').click()\n",
    "    browser.find_element_by_xpath('//*[@id=\"Spxuuz\"]').click()\n",
    "    time.sleep(1)\n",
    "    browser.find_element_by_xpath('//*[@id=\"%s\"]' % random.choice((1,2,6)))\n",
    "    if status == '经营中':\n",
    "        browser.find_element_by_xpath('//*[@id=\"Form1\"]/div[4]/input[1]').click()\n",
    "    else:\n",
    "        browser.find_element_by_xpath('//*[@id=\"Form1\"]/div[4]/input[2]').click()\n",
    "    browser.find_element_by_xpath('//*[@id=\"Form1\"]/div[6]/input').send_keys(agreage)\n",
    "    browser.find_element_by_xpath('//*[@id=\"Form1\"]/div[7]/div[2]/input').send_keys(in_floor)\n",
    "    browser.find_element_by_xpath('//*[@id=\"Form1\"]/div[7]/div[3]/input').send_keys(all_floor)\n",
    "    browser.find_element_by_xpath('//*[@id=\"Form1\"]/div[8]/div[1]/input').send_keys(width)\n",
    "    browser.find_element_by_xpath('//*[@id=\"Form1\"]/div[8]/div[2]/input').send_keys(height)\n",
    "    browser.find_element_by_xpath('//*[@id=\"Form1\"]/div[8]/div[3]/input').send_keys(depth)\n",
    "    if is_facestreet != '临街':\n",
    "        browser.find_element_by_xpath('//*[@id=\"Form1\"]/div[9]/input[2]').click()\n",
    "    for i in browser.find_elements_by_name('check'):\n",
    "        time.sleep(0.5)\n",
    "        i.click()\n",
    "    Select(browser.find_element_by_xpath('//*[@id=\"selPre\"]')).select_by_value(region)\n",
    "    Select(browser.find_element_by_xpath('//*[@id=\"selChi\"]')).select_by_value(local)\n",
    "    browser.find_element_by_xpath('//*[@id=\"Form1\"]/div[11]/input[1]').send_keys(position)\n",
    "    browser.find_element_by_xpath('//*[@id=\"Form1\"]/div[11]/input[2]').click()\n",
    "    browser.find_element_by_xpath('//*[@id=\"Form1\"]/div[12]/div[1]/div[1]/input').send_keys(monthly_rent)\n",
    "    browser.find_element_by_xpath('//*[@id=\"Form1\"]/div[12]/div[1]/div[2]/div[2]/input').send_keys(payment_method[0])\n",
    "    browser.find_element_by_xpath('//*[@id=\"Form1\"]/div[12]/div[1]/div[2]/div[3]/input').send_keys(payment_method[1])\n",
    "    browser.find_element_by_xpath('//*[@id=\"Form1\"]/div[12]/div[2]/div[1]/input').send_keys(lease_term)\n",
    "    browser.find_element_by_xpath('//*[@id=\"Form1\"]/div[13]/div[1]/input').send_keys(title)\n",
    "     browser.find_element_by_xpath('//*[@id=\"Form1\"]/div[13]/div[2]/div[2]/textarea').send_keys(content)\n",
    "    "
   ]
  },
  {
   "cell_type": "code",
   "execution_count": null,
   "metadata": {},
   "outputs": [],
   "source": []
  }
 ],
 "metadata": {
  "kernelspec": {
   "display_name": "Python 3",
   "language": "python",
   "name": "python3"
  },
  "language_info": {
   "codemirror_mode": {
    "name": "ipython",
    "version": 3
   },
   "file_extension": ".py",
   "mimetype": "text/x-python",
   "name": "python",
   "nbconvert_exporter": "python",
   "pygments_lexer": "ipython3",
   "version": "3.7.1"
  }
 },
 "nbformat": 4,
 "nbformat_minor": 2
}
