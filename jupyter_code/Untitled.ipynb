{
 "cells": [
  {
   "cell_type": "code",
   "execution_count": 4,
   "metadata": {},
   "outputs": [],
   "source": [
    "from selenium import webdriver\n",
    "import time"
   ]
  },
  {
   "cell_type": "code",
   "execution_count": 5,
   "metadata": {},
   "outputs": [],
   "source": [
    "class ffx_release():\n",
    "    \n",
    "    def __init__(self):\n",
    "        self.browser = webdriver.Chrome(r'C:\\Users\\Administrator\\Downloads\\chromedriver.exe')\n",
    "        self.browser.get('http://vip.fangfaxian.com')\n",
    "        self.info = {}\n",
    "    \n",
    "    def login(self):\n",
    "        self.browser.find_element_by_xpath('//*[@id=\"tbxUserCode\"]').send_keys('cdfst001')\n",
    "        self.browser.find_element_by_xpath('//*[@id=\"tbxUserName\"]').send_keys('test001')\n",
    "        self.browser.find_element_by_xpath('//*[@id=\"tbxPassword\"]').send_keys('123456')\n",
    "        self.browser.find_element_by_xpath('//*[@id=\"btnLogin\"]').click() \n",
    "    \n",
    "    def input_info(self):\n",
    "    "
   ]
  },
  {
   "cell_type": "code",
   "execution_count": 6,
   "metadata": {},
   "outputs": [
    {
     "data": {
      "text/plain": [
       "<__main__.ffx_release at 0x1964c23aa58>"
      ]
     },
     "execution_count": 6,
     "metadata": {},
     "output_type": "execute_result"
    }
   ],
   "source": [
    "ffx_release()"
   ]
  },
  {
   "cell_type": "code",
   "execution_count": 19,
   "metadata": {},
   "outputs": [],
   "source": [
    "browser = webdriver.Chrome(r'C:\\Users\\Administrator\\Downloads\\chromedriver.exe')"
   ]
  },
  {
   "cell_type": "code",
   "execution_count": 20,
   "metadata": {},
   "outputs": [],
   "source": [
    "browser.get('http://vip.fangfaxian.com')"
   ]
  },
  {
   "cell_type": "code",
   "execution_count": 21,
   "metadata": {},
   "outputs": [],
   "source": [
    "browser.find_element_by_xpath('//*[@id=\"tbxUserCode\"]').send_keys('cdfst001')"
   ]
  },
  {
   "cell_type": "code",
   "execution_count": 22,
   "metadata": {},
   "outputs": [],
   "source": [
    "browser.find_element_by_xpath('//*[@id=\"tbxUserName\"]').send_keys('test001')"
   ]
  },
  {
   "cell_type": "code",
   "execution_count": 23,
   "metadata": {},
   "outputs": [],
   "source": [
    "browser.find_element_by_xpath('//*[@id=\"tbxPassword\"]').send_keys('123456')"
   ]
  },
  {
   "cell_type": "code",
   "execution_count": 24,
   "metadata": {},
   "outputs": [],
   "source": [
    "browser.find_element_by_xpath('//*[@id=\"btnLogin\"]').click()"
   ]
  },
  {
   "cell_type": "code",
   "execution_count": 25,
   "metadata": {},
   "outputs": [],
   "source": [
    "browser.find_element_by_xpath('//*[@id=\"pageslide-left\"]/div[1]/div/ul/li[2]/a').click()"
   ]
  },
  {
   "cell_type": "code",
   "execution_count": 26,
   "metadata": {},
   "outputs": [],
   "source": [
    "browser.find_element_by_xpath('//*[@id=\"pageslide-left\"]/div[1]/div/ul/li[2]/ul/li[2]/a').click()"
   ]
  },
  {
   "cell_type": "code",
   "execution_count": 27,
   "metadata": {},
   "outputs": [],
   "source": [
    "browser.find_element_by_xpath('//*[@id=\"chooseWebFormCommiter1\"]').click()"
   ]
  },
  {
   "cell_type": "code",
   "execution_count": 30,
   "metadata": {},
   "outputs": [],
   "source": [
    "browser.find_element_by_xpath('/html/body/input').send_keys(r'C:\\Users\\Administrator\\Desktop\\fql_images\\68022959\\is_ok\\2a089ffcb91aac892022b4094d83310d.jpg')"
   ]
  },
  {
   "cell_type": "code",
   "execution_count": 31,
   "metadata": {},
   "outputs": [],
   "source": [
    "browser.find_element_by_xpath('//*[@id=\"imageHolder\"]/div[3]/span/input').send_keys(r'C:\\Users\\Administrator\\Desktop\\fql_images\\68022959\\is_ok\\2a089ffcb91aac892022b4094d83310d.jpg')"
   ]
  },
  {
   "cell_type": "code",
   "execution_count": null,
   "metadata": {},
   "outputs": [],
   "source": []
  }
 ],
 "metadata": {
  "kernelspec": {
   "display_name": "Python 3",
   "language": "python",
   "name": "python3"
  },
  "language_info": {
   "codemirror_mode": {
    "name": "ipython",
    "version": 3
   },
   "file_extension": ".py",
   "mimetype": "text/x-python",
   "name": "python",
   "nbconvert_exporter": "python",
   "pygments_lexer": "ipython3",
   "version": "3.7.1"
  }
 },
 "nbformat": 4,
 "nbformat_minor": 2
}
